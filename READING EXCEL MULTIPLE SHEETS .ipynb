{
 "cells": [
  {
   "cell_type": "code",
   "execution_count": 178,
   "id": "03db9e19",
   "metadata": {},
   "outputs": [],
   "source": [
    "# we import the necessary libraries \n",
    "import pandas as pd\n",
    "import numpy as np \n",
    "import matplotlib.pyplot as plt"
   ]
  },
  {
   "cell_type": "code",
   "execution_count": 179,
   "id": "654a1434",
   "metadata": {},
   "outputs": [],
   "source": [
    "#we create dataframes and use the read excel function to read the excel sheet.\n",
    "# To specify a particular sheet we use the sheet_name to pull that from that particular sheet\n",
    "df_first_shift=pd.read_excel(\"shift-data.xlsx\",sheet_name=\"first\")\n",
    "df_second_shift=pd.read_excel(\"shift-data.xlsx\",sheet_name=\"second\")\n",
    "df_third_shift=pd.read_excel(\"third-shift-data.xlsx\")\n",
    "\n",
    "\n"
   ]
  },
  {
   "cell_type": "code",
   "execution_count": 180,
   "id": "3b68de8b",
   "metadata": {},
   "outputs": [
    {
     "data": {
      "text/html": [
       "<div>\n",
       "<style scoped>\n",
       "    .dataframe tbody tr th:only-of-type {\n",
       "        vertical-align: middle;\n",
       "    }\n",
       "\n",
       "    .dataframe tbody tr th {\n",
       "        vertical-align: top;\n",
       "    }\n",
       "\n",
       "    .dataframe thead th {\n",
       "        text-align: right;\n",
       "    }\n",
       "</style>\n",
       "<table border=\"1\" class=\"dataframe\">\n",
       "  <thead>\n",
       "    <tr style=\"text-align: right;\">\n",
       "      <th></th>\n",
       "      <th>Shift</th>\n",
       "      <th>Clock Number</th>\n",
       "      <th>Name</th>\n",
       "      <th>Product</th>\n",
       "      <th>Production Run Time (Min)</th>\n",
       "      <th>Products Produced (Units)</th>\n",
       "    </tr>\n",
       "  </thead>\n",
       "  <tbody>\n",
       "    <tr>\n",
       "      <th>0</th>\n",
       "      <td>1</td>\n",
       "      <td>123654</td>\n",
       "      <td>Pete</td>\n",
       "      <td>Pepperoni</td>\n",
       "      <td>46</td>\n",
       "      <td>107</td>\n",
       "    </tr>\n",
       "    <tr>\n",
       "      <th>1</th>\n",
       "      <td>1</td>\n",
       "      <td>123498</td>\n",
       "      <td>Abdul</td>\n",
       "      <td>Cheese</td>\n",
       "      <td>56</td>\n",
       "      <td>20</td>\n",
       "    </tr>\n",
       "    <tr>\n",
       "      <th>2</th>\n",
       "      <td>1</td>\n",
       "      <td>123999</td>\n",
       "      <td>Emma</td>\n",
       "      <td>Mushroom</td>\n",
       "      <td>42</td>\n",
       "      <td>65</td>\n",
       "    </tr>\n",
       "    <tr>\n",
       "      <th>3</th>\n",
       "      <td>1</td>\n",
       "      <td>123654</td>\n",
       "      <td>Pete</td>\n",
       "      <td>Pepperoni</td>\n",
       "      <td>47</td>\n",
       "      <td>83</td>\n",
       "    </tr>\n",
       "    <tr>\n",
       "      <th>4</th>\n",
       "      <td>1</td>\n",
       "      <td>123498</td>\n",
       "      <td>Abdul</td>\n",
       "      <td>Mushroom</td>\n",
       "      <td>54</td>\n",
       "      <td>58</td>\n",
       "    </tr>\n",
       "    <tr>\n",
       "      <th>...</th>\n",
       "      <td>...</td>\n",
       "      <td>...</td>\n",
       "      <td>...</td>\n",
       "      <td>...</td>\n",
       "      <td>...</td>\n",
       "      <td>...</td>\n",
       "    </tr>\n",
       "    <tr>\n",
       "      <th>24</th>\n",
       "      <td>3</td>\n",
       "      <td>322488</td>\n",
       "      <td>Gabrielle</td>\n",
       "      <td>Mushroom</td>\n",
       "      <td>42</td>\n",
       "      <td>134</td>\n",
       "    </tr>\n",
       "    <tr>\n",
       "      <th>25</th>\n",
       "      <td>3</td>\n",
       "      <td>322486</td>\n",
       "      <td>Omar</td>\n",
       "      <td>Mushroom</td>\n",
       "      <td>43</td>\n",
       "      <td>132</td>\n",
       "    </tr>\n",
       "    <tr>\n",
       "      <th>26</th>\n",
       "      <td>3</td>\n",
       "      <td>322976</td>\n",
       "      <td>Chuck</td>\n",
       "      <td>Cheese</td>\n",
       "      <td>47</td>\n",
       "      <td>143</td>\n",
       "    </tr>\n",
       "    <tr>\n",
       "      <th>27</th>\n",
       "      <td>3</td>\n",
       "      <td>322488</td>\n",
       "      <td>Gabrielle</td>\n",
       "      <td>Sausage</td>\n",
       "      <td>45</td>\n",
       "      <td>136</td>\n",
       "    </tr>\n",
       "    <tr>\n",
       "      <th>28</th>\n",
       "      <td>3</td>\n",
       "      <td>322976</td>\n",
       "      <td>Chuck</td>\n",
       "      <td>Pepperoni</td>\n",
       "      <td>44</td>\n",
       "      <td>132</td>\n",
       "    </tr>\n",
       "  </tbody>\n",
       "</table>\n",
       "<p>87 rows × 6 columns</p>\n",
       "</div>"
      ],
      "text/plain": [
       "    Shift  Clock Number       Name    Product  Production Run Time (Min)  \\\n",
       "0       1        123654       Pete  Pepperoni                         46   \n",
       "1       1        123498      Abdul     Cheese                         56   \n",
       "2       1        123999       Emma   Mushroom                         42   \n",
       "3       1        123654       Pete  Pepperoni                         47   \n",
       "4       1        123498      Abdul   Mushroom                         54   \n",
       "..    ...           ...        ...        ...                        ...   \n",
       "24      3        322488  Gabrielle   Mushroom                         42   \n",
       "25      3        322486       Omar   Mushroom                         43   \n",
       "26      3        322976      Chuck     Cheese                         47   \n",
       "27      3        322488  Gabrielle    Sausage                         45   \n",
       "28      3        322976      Chuck  Pepperoni                         44   \n",
       "\n",
       "    Products Produced (Units)  \n",
       "0                         107  \n",
       "1                          20  \n",
       "2                          65  \n",
       "3                          83  \n",
       "4                          58  \n",
       "..                        ...  \n",
       "24                        134  \n",
       "25                        132  \n",
       "26                        143  \n",
       "27                        136  \n",
       "28                        132  \n",
       "\n",
       "[87 rows x 6 columns]"
      ]
     },
     "execution_count": 180,
     "metadata": {},
     "output_type": "execute_result"
    }
   ],
   "source": [
    "#we use the concat method to join all excel sheets into one data frame \n",
    "df_all=pd.concat([df_first_shift,df_second_shift,df_third_shift])\n",
    "df_all\n"
   ]
  },
  {
   "cell_type": "code",
   "execution_count": 181,
   "id": "f1469f8b",
   "metadata": {},
   "outputs": [
    {
     "name": "stdout",
     "output_type": "stream",
     "text": [
      "<class 'pandas.core.frame.DataFrame'>\n",
      "Int64Index: 87 entries, 0 to 28\n",
      "Data columns (total 6 columns):\n",
      " #   Column                     Non-Null Count  Dtype \n",
      "---  ------                     --------------  ----- \n",
      " 0   Shift                      87 non-null     int64 \n",
      " 1   Clock Number               87 non-null     int64 \n",
      " 2   Name                       87 non-null     object\n",
      " 3   Product                    87 non-null     object\n",
      " 4   Production Run Time (Min)  87 non-null     int64 \n",
      " 5   Products Produced (Units)  87 non-null     int64 \n",
      "dtypes: int64(4), object(2)\n",
      "memory usage: 4.8+ KB\n"
     ]
    }
   ],
   "source": [
    "#we use the info method to determine the type of each column\n",
    "df_all.info()"
   ]
  },
  {
   "cell_type": "code",
   "execution_count": 206,
   "id": "e0c76ee9",
   "metadata": {
    "scrolled": true
   },
   "outputs": [
    {
     "data": {
      "text/html": [
       "<div>\n",
       "<style scoped>\n",
       "    .dataframe tbody tr th:only-of-type {\n",
       "        vertical-align: middle;\n",
       "    }\n",
       "\n",
       "    .dataframe tbody tr th {\n",
       "        vertical-align: top;\n",
       "    }\n",
       "\n",
       "    .dataframe thead th {\n",
       "        text-align: right;\n",
       "    }\n",
       "</style>\n",
       "<table border=\"1\" class=\"dataframe\">\n",
       "  <thead>\n",
       "    <tr style=\"text-align: right;\">\n",
       "      <th></th>\n",
       "      <th>Clock Number</th>\n",
       "      <th>Production Run Time (Min)</th>\n",
       "      <th>Products Produced (Units)</th>\n",
       "    </tr>\n",
       "    <tr>\n",
       "      <th>Shift</th>\n",
       "      <th></th>\n",
       "      <th></th>\n",
       "      <th></th>\n",
       "    </tr>\n",
       "  </thead>\n",
       "  <tbody>\n",
       "    <tr>\n",
       "      <th>1</th>\n",
       "      <td>123716.655172</td>\n",
       "      <td>44.689655</td>\n",
       "      <td>54.482759</td>\n",
       "    </tr>\n",
       "    <tr>\n",
       "      <th>2</th>\n",
       "      <td>223583.241379</td>\n",
       "      <td>43.689655</td>\n",
       "      <td>80.103448</td>\n",
       "    </tr>\n",
       "    <tr>\n",
       "      <th>3</th>\n",
       "      <td>322593.827586</td>\n",
       "      <td>43.034483</td>\n",
       "      <td>128.448276</td>\n",
       "    </tr>\n",
       "  </tbody>\n",
       "</table>\n",
       "</div>"
      ],
      "text/plain": [
       "        Clock Number  Production Run Time (Min)  Products Produced (Units)\n",
       "Shift                                                                     \n",
       "1      123716.655172                  44.689655                  54.482759\n",
       "2      223583.241379                  43.689655                  80.103448\n",
       "3      322593.827586                  43.034483                 128.448276"
      ]
     },
     "execution_count": 206,
     "metadata": {},
     "output_type": "execute_result"
    }
   ],
   "source": [
    "# we group the frame by the number of shifts 123 after we get the mean\n",
    "shift_group=df_all.groupby([\"Shift\"]).mean()\n",
    "shift_group"
   ]
  },
  {
   "cell_type": "code",
   "execution_count": 207,
   "id": "1f351f99",
   "metadata": {},
   "outputs": [
    {
     "data": {
      "text/html": [
       "<div>\n",
       "<style scoped>\n",
       "    .dataframe tbody tr th:only-of-type {\n",
       "        vertical-align: middle;\n",
       "    }\n",
       "\n",
       "    .dataframe tbody tr th {\n",
       "        vertical-align: top;\n",
       "    }\n",
       "\n",
       "    .dataframe thead th {\n",
       "        text-align: right;\n",
       "    }\n",
       "</style>\n",
       "<table border=\"1\" class=\"dataframe\">\n",
       "  <thead>\n",
       "    <tr style=\"text-align: right;\">\n",
       "      <th></th>\n",
       "      <th>Production Run Time (Min)</th>\n",
       "      <th>Products Produced (Units)</th>\n",
       "    </tr>\n",
       "    <tr>\n",
       "      <th>Shift</th>\n",
       "      <th></th>\n",
       "      <th></th>\n",
       "    </tr>\n",
       "  </thead>\n",
       "  <tbody>\n",
       "    <tr>\n",
       "      <th>1</th>\n",
       "      <td>44.689655</td>\n",
       "      <td>54.482759</td>\n",
       "    </tr>\n",
       "    <tr>\n",
       "      <th>2</th>\n",
       "      <td>43.689655</td>\n",
       "      <td>80.103448</td>\n",
       "    </tr>\n",
       "    <tr>\n",
       "      <th>3</th>\n",
       "      <td>43.034483</td>\n",
       "      <td>128.448276</td>\n",
       "    </tr>\n",
       "  </tbody>\n",
       "</table>\n",
       "</div>"
      ],
      "text/plain": [
       "       Production Run Time (Min)  Products Produced (Units)\n",
       "Shift                                                      \n",
       "1                      44.689655                  54.482759\n",
       "2                      43.689655                  80.103448\n",
       "3                      43.034483                 128.448276"
      ]
     },
     "execution_count": 207,
     "metadata": {},
     "output_type": "execute_result"
    }
   ],
   "source": [
    "#we use the loc function to select mean columns out of the grouped data \n",
    "productivity_colz=shift_group.loc[:,\"Production Run Time (Min)\":\"Products Produced (Units)\"]\n",
    "productivity_colz"
   ]
  },
  {
   "cell_type": "code",
   "execution_count": 208,
   "id": "b22a31fb",
   "metadata": {},
   "outputs": [
    {
     "data": {
      "image/png": "[encoded data removed]",
      "text/plain": [
       "<Figure size 432x288 with 1 Axes>"
      ]
     },
     "metadata": {
      "needs_background": "light"
     },
     "output_type": "display_data"
    }
   ],
   "source": [
    "# we use the inverted bar graph to show data\n",
    "productivity_colz.plot(kind=\"barh\")\n",
    "plt.show()"
   ]
  },
  {
   "cell_type": "code",
   "execution_count": 209,
   "id": "a7bcabbe",
   "metadata": {},
   "outputs": [
    {
     "data": {
      "image/png": "[encoded data removed]",
      "text/plain": [
       "<Figure size 432x288 with 1 Axes>"
      ]
     },
     "metadata": {
      "needs_background": "light"
     },
     "output_type": "display_data"
    }
   ],
   "source": [
    "productivity_colz.plot(kind=\"bar\")\n",
    "plt.show()"
   ]
  },
  {
   "cell_type": "code",
   "execution_count": 204,
   "id": "2cc03476",
   "metadata": {},
   "outputs": [],
   "source": [
    "# use the to_excel method to convert our dataframes back to excel format\n",
    "df_all.to_excel(\"output.xlsx\")\n"
   ]
  }
 ],
 "metadata": {
  "kernelspec": {
   "display_name": "Python 3 (ipykernel)",
   "language": "python",
   "name": "python3"
  },
  "language_info": {
   "codemirror_mode": {
    "name": "ipython",
    "version": 3
   },
   "file_extension": ".py",
   "mimetype": "text/x-python",
   "name": "python",
   "nbconvert_exporter": "python",
   "pygments_lexer": "ipython3",
   "version": "3.9.12"
  }
 },
 "nbformat": 4,
 "nbformat_minor": 5
}
