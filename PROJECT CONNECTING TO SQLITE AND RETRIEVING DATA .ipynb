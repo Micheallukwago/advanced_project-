{
 "cells": [
  {
   "cell_type": "code",
   "execution_count": 266,
   "id": "221453a3",
   "metadata": {},
   "outputs": [],
   "source": [
    "# We use sqlite 3 as a resource to help us work with sqlite in python\n",
    "import sqlite3\n",
    "# we install the datetime\n",
    "from datetime import datetime, timedelta\n",
    "#we need pandas to data clean and wrangle our data \n",
    "import pandas as pd\n",
    "#I needed numpy to replace nan values \n",
    "import numpy as np\n",
    "# we need plotly to visualise our data \n",
    "import matplotlib.pyplot as plt\n",
    "\n",
    "#with the .connect method we can communicate 'connect with our sqlite database'\n",
    "sqliteConnection = sqlite3.connect(\"BUSINESS.db\")\n",
    "\n",
    "#we have to create a varibale 'query' which will hold our sql statements\n",
    "sqlite_select_Query = \"SELECT * FROM BUZZ;\"\n"
   ]
  },
  {
   "cell_type": "code",
   "execution_count": 267,
   "id": "08bd5dbf",
   "metadata": {
    "scrolled": false
   },
   "outputs": [
    {
     "data": {
      "text/html": [
       "<div>\n",
       "<style scoped>\n",
       "    .dataframe tbody tr th:only-of-type {\n",
       "        vertical-align: middle;\n",
       "    }\n",
       "\n",
       "    .dataframe tbody tr th {\n",
       "        vertical-align: top;\n",
       "    }\n",
       "\n",
       "    .dataframe thead th {\n",
       "        text-align: right;\n",
       "    }\n",
       "</style>\n",
       "<table border=\"1\" class=\"dataframe\">\n",
       "  <thead>\n",
       "    <tr style=\"text-align: right;\">\n",
       "      <th></th>\n",
       "      <th>Series_reference</th>\n",
       "      <th>Period</th>\n",
       "      <th>Data_value</th>\n",
       "      <th>Suppressed</th>\n",
       "      <th>STATUS</th>\n",
       "      <th>UNITS</th>\n",
       "      <th>Magnitude</th>\n",
       "      <th>Subject</th>\n",
       "      <th>Group</th>\n",
       "      <th>Series_title_1</th>\n",
       "      <th>Series_title_2</th>\n",
       "      <th>Series_title_3</th>\n",
       "      <th>Series_title_4</th>\n",
       "      <th>Series_title_5</th>\n",
       "    </tr>\n",
       "  </thead>\n",
       "  <tbody>\n",
       "    <tr>\n",
       "      <th>0</th>\n",
       "      <td>BDCQ.SEA1AA</td>\n",
       "      <td>2011.06</td>\n",
       "      <td>80078.0</td>\n",
       "      <td>None</td>\n",
       "      <td>F</td>\n",
       "      <td>Number</td>\n",
       "      <td>0</td>\n",
       "      <td>Business Data Collection - BDC</td>\n",
       "      <td>Industry by employment variable</td>\n",
       "      <td>Filled jobs</td>\n",
       "      <td>Agriculture, Forestry and Fishing</td>\n",
       "      <td>Actual</td>\n",
       "      <td>None</td>\n",
       "      <td>None</td>\n",
       "    </tr>\n",
       "    <tr>\n",
       "      <th>1</th>\n",
       "      <td>BDCQ.SEA1AA</td>\n",
       "      <td>2011.09</td>\n",
       "      <td>78324.0</td>\n",
       "      <td>None</td>\n",
       "      <td>F</td>\n",
       "      <td>Number</td>\n",
       "      <td>0</td>\n",
       "      <td>Business Data Collection - BDC</td>\n",
       "      <td>Industry by employment variable</td>\n",
       "      <td>Filled jobs</td>\n",
       "      <td>Agriculture, Forestry and Fishing</td>\n",
       "      <td>Actual</td>\n",
       "      <td>None</td>\n",
       "      <td>None</td>\n",
       "    </tr>\n",
       "    <tr>\n",
       "      <th>2</th>\n",
       "      <td>BDCQ.SEA1AA</td>\n",
       "      <td>2011.12</td>\n",
       "      <td>85850.0</td>\n",
       "      <td>None</td>\n",
       "      <td>F</td>\n",
       "      <td>Number</td>\n",
       "      <td>0</td>\n",
       "      <td>Business Data Collection - BDC</td>\n",
       "      <td>Industry by employment variable</td>\n",
       "      <td>Filled jobs</td>\n",
       "      <td>Agriculture, Forestry and Fishing</td>\n",
       "      <td>Actual</td>\n",
       "      <td>None</td>\n",
       "      <td>None</td>\n",
       "    </tr>\n",
       "  </tbody>\n",
       "</table>\n",
       "</div>"
      ],
      "text/plain": [
       "  Series_reference   Period  Data_value Suppressed STATUS   UNITS  Magnitude  \\\n",
       "0      BDCQ.SEA1AA  2011.06     80078.0       None      F  Number          0   \n",
       "1      BDCQ.SEA1AA  2011.09     78324.0       None      F  Number          0   \n",
       "2      BDCQ.SEA1AA  2011.12     85850.0       None      F  Number          0   \n",
       "\n",
       "                          Subject                            Group  \\\n",
       "0  Business Data Collection - BDC  Industry by employment variable   \n",
       "1  Business Data Collection - BDC  Industry by employment variable   \n",
       "2  Business Data Collection - BDC  Industry by employment variable   \n",
       "\n",
       "  Series_title_1                     Series_title_2 Series_title_3  \\\n",
       "0    Filled jobs  Agriculture, Forestry and Fishing         Actual   \n",
       "1    Filled jobs  Agriculture, Forestry and Fishing         Actual   \n",
       "2    Filled jobs  Agriculture, Forestry and Fishing         Actual   \n",
       "\n",
       "  Series_title_4 Series_title_5  \n",
       "0           None           None  \n",
       "1           None           None  \n",
       "2           None           None  "
      ]
     },
     "execution_count": 267,
     "metadata": {},
     "output_type": "execute_result"
    }
   ],
   "source": [
    "#we use the .read_sql_query and conn 'connection' to view our data in dataform format\n",
    "df=pd.read_sql_query(sqlite_select_Query,sqliteConnection)\n",
    "# just to check our data\n",
    "df.head(3)"
   ]
  },
  {
   "cell_type": "code",
   "execution_count": 268,
   "id": "e2a2c1a0",
   "metadata": {},
   "outputs": [
    {
     "data": {
      "text/html": [
       "<div>\n",
       "<style scoped>\n",
       "    .dataframe tbody tr th:only-of-type {\n",
       "        vertical-align: middle;\n",
       "    }\n",
       "\n",
       "    .dataframe tbody tr th {\n",
       "        vertical-align: top;\n",
       "    }\n",
       "\n",
       "    .dataframe thead th {\n",
       "        text-align: right;\n",
       "    }\n",
       "</style>\n",
       "<table border=\"1\" class=\"dataframe\">\n",
       "  <thead>\n",
       "    <tr style=\"text-align: right;\">\n",
       "      <th></th>\n",
       "      <th>Data_value</th>\n",
       "      <th>Period</th>\n",
       "    </tr>\n",
       "  </thead>\n",
       "  <tbody>\n",
       "    <tr>\n",
       "      <th>0</th>\n",
       "      <td>80078.0</td>\n",
       "      <td>2011.06</td>\n",
       "    </tr>\n",
       "    <tr>\n",
       "      <th>1</th>\n",
       "      <td>78324.0</td>\n",
       "      <td>2011.09</td>\n",
       "    </tr>\n",
       "    <tr>\n",
       "      <th>2</th>\n",
       "      <td>85850.0</td>\n",
       "      <td>2011.12</td>\n",
       "    </tr>\n",
       "    <tr>\n",
       "      <th>3</th>\n",
       "      <td>90743.0</td>\n",
       "      <td>2012.03</td>\n",
       "    </tr>\n",
       "    <tr>\n",
       "      <th>4</th>\n",
       "      <td>81780.0</td>\n",
       "      <td>2012.06</td>\n",
       "    </tr>\n",
       "    <tr>\n",
       "      <th>...</th>\n",
       "      <td>...</td>\n",
       "      <td>...</td>\n",
       "    </tr>\n",
       "    <tr>\n",
       "      <th>16141</th>\n",
       "      <td>756812.0</td>\n",
       "      <td>2021.09</td>\n",
       "    </tr>\n",
       "    <tr>\n",
       "      <th>16142</th>\n",
       "      <td>772187.0</td>\n",
       "      <td>2021.12</td>\n",
       "    </tr>\n",
       "    <tr>\n",
       "      <th>16143</th>\n",
       "      <td>769623.0</td>\n",
       "      <td>2022.03</td>\n",
       "    </tr>\n",
       "    <tr>\n",
       "      <th>16144</th>\n",
       "      <td>775401.0</td>\n",
       "      <td>2022.06</td>\n",
       "    </tr>\n",
       "    <tr>\n",
       "      <th>16145</th>\n",
       "      <td>779678.0</td>\n",
       "      <td>2022.09</td>\n",
       "    </tr>\n",
       "  </tbody>\n",
       "</table>\n",
       "<p>16146 rows × 2 columns</p>\n",
       "</div>"
      ],
      "text/plain": [
       "       Data_value   Period\n",
       "0         80078.0  2011.06\n",
       "1         78324.0  2011.09\n",
       "2         85850.0  2011.12\n",
       "3         90743.0  2012.03\n",
       "4         81780.0  2012.06\n",
       "...           ...      ...\n",
       "16141    756812.0  2021.09\n",
       "16142    772187.0  2021.12\n",
       "16143    769623.0  2022.03\n",
       "16144    775401.0  2022.06\n",
       "16145    779678.0  2022.09\n",
       "\n",
       "[16146 rows x 2 columns]"
      ]
     },
     "execution_count": 268,
     "metadata": {},
     "output_type": "execute_result"
    }
   ],
   "source": [
    "# we are able to sort our data using sql commands to form sensible queries and form dataframes\n",
    "# below we can get data that is alredy cleaned using sql \n",
    "querry=\"SELECT Data_value,Period from BUZZ where Data_value NOTNULL; \"\n",
    "QP=pd.read_sql_query(querry,sqliteConnection)\n",
    "QP"
   ]
  },
  {
   "cell_type": "code",
   "execution_count": 269,
   "id": "35ef9520",
   "metadata": {},
   "outputs": [
    {
     "data": {
      "text/html": [
       "<div>\n",
       "<style scoped>\n",
       "    .dataframe tbody tr th:only-of-type {\n",
       "        vertical-align: middle;\n",
       "    }\n",
       "\n",
       "    .dataframe tbody tr th {\n",
       "        vertical-align: top;\n",
       "    }\n",
       "\n",
       "    .dataframe thead th {\n",
       "        text-align: right;\n",
       "    }\n",
       "</style>\n",
       "<table border=\"1\" class=\"dataframe\">\n",
       "  <thead>\n",
       "    <tr style=\"text-align: right;\">\n",
       "      <th></th>\n",
       "      <th>Data_value</th>\n",
       "      <th>STATUS</th>\n",
       "    </tr>\n",
       "  </thead>\n",
       "  <tbody>\n",
       "    <tr>\n",
       "      <th>0</th>\n",
       "      <td>NaN</td>\n",
       "      <td>C</td>\n",
       "    </tr>\n",
       "    <tr>\n",
       "      <th>1</th>\n",
       "      <td>80078.0</td>\n",
       "      <td>F</td>\n",
       "    </tr>\n",
       "    <tr>\n",
       "      <th>2</th>\n",
       "      <td>83971.0</td>\n",
       "      <td>R</td>\n",
       "    </tr>\n",
       "  </tbody>\n",
       "</table>\n",
       "</div>"
      ],
      "text/plain": [
       "   Data_value STATUS\n",
       "0         NaN      C\n",
       "1     80078.0      F\n",
       "2     83971.0      R"
      ]
     },
     "execution_count": 269,
     "metadata": {},
     "output_type": "execute_result"
    }
   ],
   "source": [
    "# WE GROUP OUR DATA USING STATUS BELOW \n",
    "querry=\"SELECT Data_value,STATUS FROM BUZZ GROUP BY STATUS;\"\n",
    "QS=pd.read_sql_query(querry,sqliteConnection)\n",
    "QS\n"
   ]
  },
  {
   "cell_type": "code",
   "execution_count": 270,
   "id": "708b71ff",
   "metadata": {},
   "outputs": [
    {
     "data": {
      "text/html": [
       "<div>\n",
       "<style scoped>\n",
       "    .dataframe tbody tr th:only-of-type {\n",
       "        vertical-align: middle;\n",
       "    }\n",
       "\n",
       "    .dataframe tbody tr th {\n",
       "        vertical-align: top;\n",
       "    }\n",
       "\n",
       "    .dataframe thead th {\n",
       "        text-align: right;\n",
       "    }\n",
       "</style>\n",
       "<table border=\"1\" class=\"dataframe\">\n",
       "  <thead>\n",
       "    <tr style=\"text-align: right;\">\n",
       "      <th></th>\n",
       "      <th>Series_title_2</th>\n",
       "      <th>Data_value</th>\n",
       "    </tr>\n",
       "  </thead>\n",
       "  <tbody>\n",
       "    <tr>\n",
       "      <th>0</th>\n",
       "      <td>15-19</td>\n",
       "      <td>98572</td>\n",
       "    </tr>\n",
       "    <tr>\n",
       "      <th>1</th>\n",
       "      <td>20-24</td>\n",
       "      <td>191834</td>\n",
       "    </tr>\n",
       "    <tr>\n",
       "      <th>2</th>\n",
       "      <td>25-29</td>\n",
       "      <td>184750</td>\n",
       "    </tr>\n",
       "    <tr>\n",
       "      <th>3</th>\n",
       "      <td>30-34</td>\n",
       "      <td>173195</td>\n",
       "    </tr>\n",
       "    <tr>\n",
       "      <th>4</th>\n",
       "      <td>35-39</td>\n",
       "      <td>186714</td>\n",
       "    </tr>\n",
       "    <tr>\n",
       "      <th>5</th>\n",
       "      <td>40-44</td>\n",
       "      <td>200611</td>\n",
       "    </tr>\n",
       "    <tr>\n",
       "      <th>6</th>\n",
       "      <td>45-49</td>\n",
       "      <td>200716</td>\n",
       "    </tr>\n",
       "    <tr>\n",
       "      <th>7</th>\n",
       "      <td>50-54</td>\n",
       "      <td>178833</td>\n",
       "    </tr>\n",
       "    <tr>\n",
       "      <th>8</th>\n",
       "      <td>55-59</td>\n",
       "      <td>140309</td>\n",
       "    </tr>\n",
       "    <tr>\n",
       "      <th>9</th>\n",
       "      <td>60-64</td>\n",
       "      <td>105985</td>\n",
       "    </tr>\n",
       "    <tr>\n",
       "      <th>10</th>\n",
       "      <td>65 +</td>\n",
       "      <td>61853</td>\n",
       "    </tr>\n",
       "  </tbody>\n",
       "</table>\n",
       "</div>"
      ],
      "text/plain": [
       "   Series_title_2  Data_value\n",
       "0           15-19       98572\n",
       "1           20-24      191834\n",
       "2           25-29      184750\n",
       "3           30-34      173195\n",
       "4           35-39      186714\n",
       "5           40-44      200611\n",
       "6           45-49      200716\n",
       "7           50-54      178833\n",
       "8           55-59      140309\n",
       "9           60-64      105985\n",
       "10           65 +       61853"
      ]
     },
     "execution_count": 270,
     "metadata": {},
     "output_type": "execute_result"
    }
   ],
   "source": [
    "# we are able to see each age groups data_value \n",
    "querry=\"SELECT Series_title_2,Data_value FROM BUZZ GROUP BY Series_title_2 limit 11\"\n",
    "AQ=pd.read_sql_query(querry,sqliteConnection)\n",
    "AQ"
   ]
  },
  {
   "cell_type": "raw",
   "id": "58556bca",
   "metadata": {},
   "source": [
    "# WE CAN SEE HOW CITIES PERFORM USING THE DATA BELOW\n",
    "querry=\"SELECT Series_title_2,Data_value FROM BUZZ WHERE Series_title_2 LIKE '%CITY';\"\n",
    "CITY=pd.read_sql_query(querry,sqliteConnection)\n",
    "CITY"
   ]
  },
  {
   "cell_type": "code",
   "execution_count": 292,
   "id": "10e0479c",
   "metadata": {},
   "outputs": [
    {
     "data": {
      "text/html": [
       "<div>\n",
       "<style scoped>\n",
       "    .dataframe tbody tr th:only-of-type {\n",
       "        vertical-align: middle;\n",
       "    }\n",
       "\n",
       "    .dataframe tbody tr th {\n",
       "        vertical-align: top;\n",
       "    }\n",
       "\n",
       "    .dataframe thead th {\n",
       "        text-align: right;\n",
       "    }\n",
       "</style>\n",
       "<table border=\"1\" class=\"dataframe\">\n",
       "  <thead>\n",
       "    <tr style=\"text-align: right;\">\n",
       "      <th></th>\n",
       "      <th>Series_title_2</th>\n",
       "      <th>Data_value</th>\n",
       "    </tr>\n",
       "  </thead>\n",
       "  <tbody>\n",
       "    <tr>\n",
       "      <th>0</th>\n",
       "      <td>Agriculture, Forestry and Fishing</td>\n",
       "      <td>80078</td>\n",
       "    </tr>\n",
       "    <tr>\n",
       "      <th>1</th>\n",
       "      <td>Male</td>\n",
       "      <td>861368</td>\n",
       "    </tr>\n",
       "  </tbody>\n",
       "</table>\n",
       "</div>"
      ],
      "text/plain": [
       "                      Series_title_2  Data_value\n",
       "0  Agriculture, Forestry and Fishing       80078\n",
       "1                               Male      861368"
      ]
     },
     "execution_count": 292,
     "metadata": {},
     "output_type": "execute_result"
    }
   ],
   "source": [
    "querry=\"SELECT Series_title_2,Data_value FROM BUZZ GROUP BY  Series_title_2 LIKE '%MALE';\"\n",
    "GENDER=pd.read_sql_query(querry,sqliteConnection)\n",
    "GENDER\n",
    "\n"
   ]
  },
  {
   "cell_type": "code",
   "execution_count": 305,
   "id": "b45da0c0",
   "metadata": {},
   "outputs": [
    {
     "data": {
      "text/plain": [
       "0     80078\n",
       "1    861368\n",
       "Name: Data_value, dtype: int64"
      ]
     },
     "execution_count": 305,
     "metadata": {},
     "output_type": "execute_result"
    }
   ],
   "source": [
    "GENDER[\"Data_value\"]"
   ]
  },
  {
   "cell_type": "code",
   "execution_count": 306,
   "id": "04a5d07f",
   "metadata": {},
   "outputs": [
    {
     "data": {
      "text/plain": [
       "0    Agriculture, Forestry and Fishing\n",
       "1                                 Male\n",
       "Name: Series_title_2, dtype: object"
      ]
     },
     "execution_count": 306,
     "metadata": {},
     "output_type": "execute_result"
    }
   ],
   "source": [
    "GENDER[\"Series_title_2\"]"
   ]
  },
  {
   "cell_type": "code",
   "execution_count": 309,
   "id": "e5b43520",
   "metadata": {},
   "outputs": [
    {
     "data": {
      "text/plain": [
       "<AxesSubplot:>"
      ]
     },
     "execution_count": 309,
     "metadata": {},
     "output_type": "execute_result"
    },
    {
     "data": {
      "image/png": "[encoded data removed]",
      "text/plain": [
       "<Figure size 432x288 with 1 Axes>"
      ]
     },
     "metadata": {
      "needs_background": "light"
     },
     "output_type": "display_data"
    }
   ],
   "source": [
    "GENDER.plot(kind=\"bar\",)"
   ]
  },
  {
   "cell_type": "code",
   "execution_count": 291,
   "id": "ecddd1f8",
   "metadata": {},
   "outputs": [],
   "source": [
    "GENDER.to_excel(\"gender.xlsx\")"
   ]
  },
  {
   "cell_type": "code",
   "execution_count": 208,
   "id": "dd3c3dde",
   "metadata": {},
   "outputs": [
    {
     "data": {
      "text/plain": [
       "Index(['Series_reference', 'Period', 'Data_value', 'Suppressed', 'STATUS',\n",
       "       'UNITS', 'Magnitude', 'Subject', 'Group', 'Series_title_1',\n",
       "       'Series_title_2', 'Series_title_3', 'Series_title_4', 'Series_title_5'],\n",
       "      dtype='object')"
      ]
     },
     "execution_count": 208,
     "metadata": {},
     "output_type": "execute_result"
    }
   ],
   "source": [
    "#we analyse the columns\n",
    "df.columns"
   ]
  },
  {
   "cell_type": "code",
   "execution_count": 209,
   "id": "2d4c6ee5",
   "metadata": {},
   "outputs": [
    {
     "data": {
      "text/plain": [
       "RangeIndex(start=0, stop=20641, step=1)"
      ]
     },
     "execution_count": 209,
     "metadata": {},
     "output_type": "execute_result"
    }
   ],
   "source": [
    "# To know the rows and skip steps inbetween each \n",
    "df.index"
   ]
  },
  {
   "cell_type": "code",
   "execution_count": 210,
   "id": "99a89a69",
   "metadata": {},
   "outputs": [
    {
     "data": {
      "text/plain": [
       "(20641, 14)"
      ]
     },
     "execution_count": 210,
     "metadata": {},
     "output_type": "execute_result"
    }
   ],
   "source": [
    "# to identify the number of  the cols and rows in our dataframe\n",
    "df.shape"
   ]
  },
  {
   "cell_type": "code",
   "execution_count": 211,
   "id": "c9ee6c89",
   "metadata": {},
   "outputs": [
    {
     "name": "stdout",
     "output_type": "stream",
     "text": [
      "<class 'pandas.core.frame.DataFrame'>\n",
      "RangeIndex: 20641 entries, 0 to 20640\n",
      "Data columns (total 14 columns):\n",
      " #   Column            Non-Null Count  Dtype  \n",
      "---  ------            --------------  -----  \n",
      " 0   Series_reference  20641 non-null  object \n",
      " 1   Period            20641 non-null  float64\n",
      " 2   Data_value        16146 non-null  float64\n",
      " 3   Suppressed        2839 non-null   object \n",
      " 4   STATUS            20641 non-null  object \n",
      " 5   UNITS             20641 non-null  object \n",
      " 6   Magnitude         20641 non-null  int64  \n",
      " 7   Subject           20641 non-null  object \n",
      " 8   Group             20641 non-null  object \n",
      " 9   Series_title_1    20641 non-null  object \n",
      " 10  Series_title_2    20641 non-null  object \n",
      " 11  Series_title_3    20641 non-null  object \n",
      " 12  Series_title_4    0 non-null      object \n",
      " 13  Series_title_5    0 non-null      object \n",
      "dtypes: float64(2), int64(1), object(11)\n",
      "memory usage: 2.2+ MB\n"
     ]
    }
   ],
   "source": [
    "# we continue with our analysis of all the data to identify more using the .info method\n",
    "#Its clear period and datavale are the only numerical columns\n",
    "df.info()"
   ]
  },
  {
   "cell_type": "code",
   "execution_count": 232,
   "id": "d6d8ecd4",
   "metadata": {},
   "outputs": [
    {
     "data": {
      "text/html": [
       "<div>\n",
       "<style scoped>\n",
       "    .dataframe tbody tr th:only-of-type {\n",
       "        vertical-align: middle;\n",
       "    }\n",
       "\n",
       "    .dataframe tbody tr th {\n",
       "        vertical-align: top;\n",
       "    }\n",
       "\n",
       "    .dataframe thead th {\n",
       "        text-align: right;\n",
       "    }\n",
       "</style>\n",
       "<table border=\"1\" class=\"dataframe\">\n",
       "  <thead>\n",
       "    <tr style=\"text-align: right;\">\n",
       "      <th></th>\n",
       "      <th>Period</th>\n",
       "      <th>Data_value</th>\n",
       "      <th>Magnitude</th>\n",
       "    </tr>\n",
       "  </thead>\n",
       "  <tbody>\n",
       "    <tr>\n",
       "      <th>Period</th>\n",
       "      <td>1.000000</td>\n",
       "      <td>0.025577</td>\n",
       "      <td>-0.044687</td>\n",
       "    </tr>\n",
       "    <tr>\n",
       "      <th>Data_value</th>\n",
       "      <td>0.025577</td>\n",
       "      <td>1.000000</td>\n",
       "      <td>-0.227051</td>\n",
       "    </tr>\n",
       "    <tr>\n",
       "      <th>Magnitude</th>\n",
       "      <td>-0.044687</td>\n",
       "      <td>-0.227051</td>\n",
       "      <td>1.000000</td>\n",
       "    </tr>\n",
       "  </tbody>\n",
       "</table>\n",
       "</div>"
      ],
      "text/plain": [
       "              Period  Data_value  Magnitude\n",
       "Period      1.000000    0.025577  -0.044687\n",
       "Data_value  0.025577    1.000000  -0.227051\n",
       "Magnitude  -0.044687   -0.227051   1.000000"
      ]
     },
     "execution_count": 232,
     "metadata": {},
     "output_type": "execute_result"
    }
   ],
   "source": [
    "# USING THE CORR METHOD WE FIND A CONNECTION AMONG OUR NUMERIC COLZ\n",
    "df.corr()"
   ]
  },
  {
   "cell_type": "code",
   "execution_count": 235,
   "id": "bfc7b23c",
   "metadata": {},
   "outputs": [
    {
     "data": {
      "text/plain": [
       "<AxesSubplot:>"
      ]
     },
     "execution_count": 235,
     "metadata": {},
     "output_type": "execute_result"
    },
    {
     "data": {
      "image/png": "[encoded data removed]",
      "text/plain": [
       "<Figure size 432x288 with 1 Axes>"
      ]
     },
     "metadata": {
      "needs_background": "light"
     },
     "output_type": "display_data"
    }
   ],
   "source": [
    "df.corr().plot(kind=\"box\")"
   ]
  },
  {
   "cell_type": "code",
   "execution_count": 222,
   "id": "e269cdd0",
   "metadata": {},
   "outputs": [
    {
     "data": {
      "text/html": [
       "<div>\n",
       "<style scoped>\n",
       "    .dataframe tbody tr th:only-of-type {\n",
       "        vertical-align: middle;\n",
       "    }\n",
       "\n",
       "    .dataframe tbody tr th {\n",
       "        vertical-align: top;\n",
       "    }\n",
       "\n",
       "    .dataframe thead th {\n",
       "        text-align: right;\n",
       "    }\n",
       "</style>\n",
       "<table border=\"1\" class=\"dataframe\">\n",
       "  <thead>\n",
       "    <tr style=\"text-align: right;\">\n",
       "      <th></th>\n",
       "      <th>Series_reference</th>\n",
       "      <th>Period</th>\n",
       "      <th>Data_value</th>\n",
       "      <th>Suppressed</th>\n",
       "      <th>STATUS</th>\n",
       "      <th>UNITS</th>\n",
       "      <th>Magnitude</th>\n",
       "      <th>Subject</th>\n",
       "      <th>Group</th>\n",
       "      <th>Series_title_1</th>\n",
       "      <th>Series_title_2</th>\n",
       "      <th>Series_title_3</th>\n",
       "      <th>Series_title_4</th>\n",
       "      <th>Series_title_5</th>\n",
       "    </tr>\n",
       "  </thead>\n",
       "  <tbody>\n",
       "    <tr>\n",
       "      <th>20636</th>\n",
       "      <td>False</td>\n",
       "      <td>False</td>\n",
       "      <td>True</td>\n",
       "      <td>False</td>\n",
       "      <td>False</td>\n",
       "      <td>False</td>\n",
       "      <td>False</td>\n",
       "      <td>False</td>\n",
       "      <td>False</td>\n",
       "      <td>False</td>\n",
       "      <td>False</td>\n",
       "      <td>False</td>\n",
       "      <td>True</td>\n",
       "      <td>True</td>\n",
       "    </tr>\n",
       "    <tr>\n",
       "      <th>20637</th>\n",
       "      <td>False</td>\n",
       "      <td>False</td>\n",
       "      <td>True</td>\n",
       "      <td>False</td>\n",
       "      <td>False</td>\n",
       "      <td>False</td>\n",
       "      <td>False</td>\n",
       "      <td>False</td>\n",
       "      <td>False</td>\n",
       "      <td>False</td>\n",
       "      <td>False</td>\n",
       "      <td>False</td>\n",
       "      <td>True</td>\n",
       "      <td>True</td>\n",
       "    </tr>\n",
       "    <tr>\n",
       "      <th>20638</th>\n",
       "      <td>False</td>\n",
       "      <td>False</td>\n",
       "      <td>True</td>\n",
       "      <td>False</td>\n",
       "      <td>False</td>\n",
       "      <td>False</td>\n",
       "      <td>False</td>\n",
       "      <td>False</td>\n",
       "      <td>False</td>\n",
       "      <td>False</td>\n",
       "      <td>False</td>\n",
       "      <td>False</td>\n",
       "      <td>True</td>\n",
       "      <td>True</td>\n",
       "    </tr>\n",
       "    <tr>\n",
       "      <th>20639</th>\n",
       "      <td>False</td>\n",
       "      <td>False</td>\n",
       "      <td>True</td>\n",
       "      <td>False</td>\n",
       "      <td>False</td>\n",
       "      <td>False</td>\n",
       "      <td>False</td>\n",
       "      <td>False</td>\n",
       "      <td>False</td>\n",
       "      <td>False</td>\n",
       "      <td>False</td>\n",
       "      <td>False</td>\n",
       "      <td>True</td>\n",
       "      <td>True</td>\n",
       "    </tr>\n",
       "    <tr>\n",
       "      <th>20640</th>\n",
       "      <td>False</td>\n",
       "      <td>False</td>\n",
       "      <td>True</td>\n",
       "      <td>False</td>\n",
       "      <td>False</td>\n",
       "      <td>False</td>\n",
       "      <td>False</td>\n",
       "      <td>False</td>\n",
       "      <td>False</td>\n",
       "      <td>False</td>\n",
       "      <td>False</td>\n",
       "      <td>False</td>\n",
       "      <td>True</td>\n",
       "      <td>True</td>\n",
       "    </tr>\n",
       "  </tbody>\n",
       "</table>\n",
       "</div>"
      ],
      "text/plain": [
       "       Series_reference  Period  Data_value  Suppressed  STATUS  UNITS  \\\n",
       "20636             False   False        True       False   False  False   \n",
       "20637             False   False        True       False   False  False   \n",
       "20638             False   False        True       False   False  False   \n",
       "20639             False   False        True       False   False  False   \n",
       "20640             False   False        True       False   False  False   \n",
       "\n",
       "       Magnitude  Subject  Group  Series_title_1  Series_title_2  \\\n",
       "20636      False    False  False           False           False   \n",
       "20637      False    False  False           False           False   \n",
       "20638      False    False  False           False           False   \n",
       "20639      False    False  False           False           False   \n",
       "20640      False    False  False           False           False   \n",
       "\n",
       "       Series_title_3  Series_title_4  Series_title_5  \n",
       "20636           False            True            True  \n",
       "20637           False            True            True  \n",
       "20638           False            True            True  \n",
       "20639           False            True            True  \n",
       "20640           False            True            True  "
      ]
     },
     "execution_count": 222,
     "metadata": {},
     "output_type": "execute_result"
    }
   ],
   "source": [
    "# we analyse the top and bottom of our df to see what columns have no values using the .tail and .head\n",
    "df.isnull().tail()"
   ]
  },
  {
   "cell_type": "code",
   "execution_count": 221,
   "id": "1146cc45",
   "metadata": {},
   "outputs": [
    {
     "data": {
      "text/html": [
       "<div>\n",
       "<style scoped>\n",
       "    .dataframe tbody tr th:only-of-type {\n",
       "        vertical-align: middle;\n",
       "    }\n",
       "\n",
       "    .dataframe tbody tr th {\n",
       "        vertical-align: top;\n",
       "    }\n",
       "\n",
       "    .dataframe thead th {\n",
       "        text-align: right;\n",
       "    }\n",
       "</style>\n",
       "<table border=\"1\" class=\"dataframe\">\n",
       "  <thead>\n",
       "    <tr style=\"text-align: right;\">\n",
       "      <th></th>\n",
       "      <th>Series_reference</th>\n",
       "      <th>Period</th>\n",
       "      <th>Data_value</th>\n",
       "      <th>Suppressed</th>\n",
       "      <th>STATUS</th>\n",
       "      <th>UNITS</th>\n",
       "      <th>Magnitude</th>\n",
       "      <th>Subject</th>\n",
       "      <th>Group</th>\n",
       "      <th>Series_title_1</th>\n",
       "      <th>Series_title_2</th>\n",
       "      <th>Series_title_3</th>\n",
       "      <th>Series_title_4</th>\n",
       "      <th>Series_title_5</th>\n",
       "    </tr>\n",
       "  </thead>\n",
       "  <tbody>\n",
       "    <tr>\n",
       "      <th>0</th>\n",
       "      <td>BDCQ.SEA1AA</td>\n",
       "      <td>2011.06</td>\n",
       "      <td>80078.0</td>\n",
       "      <td>None</td>\n",
       "      <td>F</td>\n",
       "      <td>Number</td>\n",
       "      <td>0</td>\n",
       "      <td>Business Data Collection - BDC</td>\n",
       "      <td>Industry by employment variable</td>\n",
       "      <td>Filled jobs</td>\n",
       "      <td>Agriculture, Forestry and Fishing</td>\n",
       "      <td>Actual</td>\n",
       "      <td>None</td>\n",
       "      <td>None</td>\n",
       "    </tr>\n",
       "    <tr>\n",
       "      <th>1</th>\n",
       "      <td>BDCQ.SEA1AA</td>\n",
       "      <td>2011.09</td>\n",
       "      <td>78324.0</td>\n",
       "      <td>None</td>\n",
       "      <td>F</td>\n",
       "      <td>Number</td>\n",
       "      <td>0</td>\n",
       "      <td>Business Data Collection - BDC</td>\n",
       "      <td>Industry by employment variable</td>\n",
       "      <td>Filled jobs</td>\n",
       "      <td>Agriculture, Forestry and Fishing</td>\n",
       "      <td>Actual</td>\n",
       "      <td>None</td>\n",
       "      <td>None</td>\n",
       "    </tr>\n",
       "  </tbody>\n",
       "</table>\n",
       "</div>"
      ],
      "text/plain": [
       "  Series_reference   Period  Data_value Suppressed STATUS   UNITS  Magnitude  \\\n",
       "0      BDCQ.SEA1AA  2011.06     80078.0       None      F  Number          0   \n",
       "1      BDCQ.SEA1AA  2011.09     78324.0       None      F  Number          0   \n",
       "\n",
       "                          Subject                            Group  \\\n",
       "0  Business Data Collection - BDC  Industry by employment variable   \n",
       "1  Business Data Collection - BDC  Industry by employment variable   \n",
       "\n",
       "  Series_title_1                     Series_title_2 Series_title_3  \\\n",
       "0    Filled jobs  Agriculture, Forestry and Fishing         Actual   \n",
       "1    Filled jobs  Agriculture, Forestry and Fishing         Actual   \n",
       "\n",
       "  Series_title_4 Series_title_5  \n",
       "0           None           None  \n",
       "1           None           None  "
      ]
     },
     "execution_count": 221,
     "metadata": {},
     "output_type": "execute_result"
    }
   ],
   "source": [
    "df.head(2)"
   ]
  },
  {
   "cell_type": "code",
   "execution_count": 178,
   "id": "b0dcd2d8",
   "metadata": {},
   "outputs": [
    {
     "data": {
      "text/plain": [
       "<pandas.core.groupby.generic.DataFrameGroupBy object at 0x000001BB7525E9A0>"
      ]
     },
     "execution_count": 178,
     "metadata": {},
     "output_type": "execute_result"
    }
   ],
   "source": [
    "\n",
    "# I decided to use the mean inorder to be used as a replacement for missing data \n",
    "df[\"Data_value\"].mean\n",
    "#Below we replce the empty rows with the mean its important to remember the role of numpy\n",
    "#We should never forget to keep the settings inplace as True to apply to the df\n",
    "df[\"Data_value\"].replace(np.nan,80078.0,inplace=True)\n",
    "#We select the data value in relation to the series'industry'\n",
    "\n",
    "\n"
   ]
  },
  {
   "cell_type": "code",
   "execution_count": 228,
   "id": "ba2cefbe",
   "metadata": {},
   "outputs": [],
   "source": [
    "# we group our dataframe with period\n",
    "qz=df.groupby(df[\"Period\"])"
   ]
  },
  {
   "cell_type": "code",
   "execution_count": 229,
   "id": "17c95028",
   "metadata": {},
   "outputs": [
    {
     "data": {
      "text/plain": [
       "<AxesSubplot:title={'center':'DATA VALUE EXPRESSED OVER THE YEARS'}, ylabel='Period'>"
      ]
     },
     "execution_count": 229,
     "metadata": {},
     "output_type": "execute_result"
    },
    {
     "data": {
      "image/png": "[encoded data removed]",
      "text/plain": [
       "<Figure size 1440x1440 with 1 Axes>"
      ]
     },
     "metadata": {
      "needs_background": "light"
     },
     "output_type": "display_data"
    }
   ],
   "source": [
    "# using plorly we visualise our data \n",
    "qz.first().plot(kind=\"barh\",figsize=(20,20),title=\"DATA VALUE EXPRESSED OVER THE YEARS\")"
   ]
  }
 ],
 "metadata": {
  "kernelspec": {
   "display_name": "Python 3 (ipykernel)",
   "language": "python",
   "name": "python3"
  },
  "language_info": {
   "codemirror_mode": {
    "name": "ipython",
    "version": 3
   },
   "file_extension": ".py",
   "mimetype": "text/x-python",
   "name": "python",
   "nbconvert_exporter": "python",
   "pygments_lexer": "ipython3",
   "version": "3.9.12"
  }
 },
 "nbformat": 4,
 "nbformat_minor": 5
}
