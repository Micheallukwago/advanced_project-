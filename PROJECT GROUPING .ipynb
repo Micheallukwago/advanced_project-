{
 "cells": [
  {
   "cell_type": "code",
   "execution_count": 483,
   "id": "35d2578c",
   "metadata": {},
   "outputs": [],
   "source": [
    "import pandas as pd \n",
    "import numpy as np \n",
    "import matplotlib.pyplot as plt\n",
    "import os\n",
    "import geopandas \n",
    "from geopandas  import GeoDataFrame\n",
    "from shapely.geometry import Point,Polygon\n",
    "import plotly.express as px \n",
    "\n",
    "\n"
   ]
  },
  {
   "cell_type": "code",
   "execution_count": 484,
   "id": "52e88ded",
   "metadata": {},
   "outputs": [],
   "source": [
    "#I read the csv file of all chicago schools selecting only information columns we need using usecols\n",
    "df=pd.read_csv(\"chicago_Public_Schools.csv\",usecols=[\"Elementary, Middle, or High School\",\"City\",\"State\",\"COMMUNITY_AREA_NAME\",\"ZIP Code\",\"Latitude\",\"Longitude\",\"Location\"])\n"
   ]
  },
  {
   "cell_type": "code",
   "execution_count": 485,
   "id": "8df18f5f",
   "metadata": {},
   "outputs": [
    {
     "data": {
      "text/html": [
       "<div>\n",
       "<style scoped>\n",
       "    .dataframe tbody tr th:only-of-type {\n",
       "        vertical-align: middle;\n",
       "    }\n",
       "\n",
       "    .dataframe tbody tr th {\n",
       "        vertical-align: top;\n",
       "    }\n",
       "\n",
       "    .dataframe thead th {\n",
       "        text-align: right;\n",
       "    }\n",
       "</style>\n",
       "<table border=\"1\" class=\"dataframe\">\n",
       "  <thead>\n",
       "    <tr style=\"text-align: right;\">\n",
       "      <th></th>\n",
       "      <th>Elementary, Middle, or High School</th>\n",
       "      <th>City</th>\n",
       "      <th>State</th>\n",
       "      <th>ZIP Code</th>\n",
       "      <th>Latitude</th>\n",
       "      <th>Longitude</th>\n",
       "      <th>COMMUNITY_AREA_NAME</th>\n",
       "      <th>Location</th>\n",
       "    </tr>\n",
       "  </thead>\n",
       "  <tbody>\n",
       "    <tr>\n",
       "      <th>564</th>\n",
       "      <td>ES</td>\n",
       "      <td>Chicago</td>\n",
       "      <td>IL</td>\n",
       "      <td>60637</td>\n",
       "      <td>41.77340</td>\n",
       "      <td>-87.594356</td>\n",
       "      <td>WOODLAWN</td>\n",
       "      <td>(41.77339962, -87.59435584)</td>\n",
       "    </tr>\n",
       "    <tr>\n",
       "      <th>565</th>\n",
       "      <td>HS</td>\n",
       "      <td>Chicago</td>\n",
       "      <td>IL</td>\n",
       "      <td>60623</td>\n",
       "      <td>41.83602</td>\n",
       "      <td>-87.734195</td>\n",
       "      <td>SOUTH LAWNDALE</td>\n",
       "      <td>(41.83601953, -87.73419465)</td>\n",
       "    </tr>\n",
       "  </tbody>\n",
       "</table>\n",
       "</div>"
      ],
      "text/plain": [
       "    Elementary, Middle, or High School     City State  ZIP Code  Latitude  \\\n",
       "564                                 ES  Chicago    IL     60637  41.77340   \n",
       "565                                 HS  Chicago    IL     60623  41.83602   \n",
       "\n",
       "     Longitude COMMUNITY_AREA_NAME                     Location  \n",
       "564 -87.594356            WOODLAWN  (41.77339962, -87.59435584)  \n",
       "565 -87.734195      SOUTH LAWNDALE  (41.83601953, -87.73419465)  "
      ]
     },
     "execution_count": 485,
     "metadata": {},
     "output_type": "execute_result"
    }
   ],
   "source": [
    "# we check our data below \n",
    "df.tail(2)"
   ]
  },
  {
   "cell_type": "code",
   "execution_count": 486,
   "id": "b574987a",
   "metadata": {},
   "outputs": [
    {
     "data": {
      "text/plain": [
       "(566, 8)"
      ]
     },
     "execution_count": 486,
     "metadata": {},
     "output_type": "execute_result"
    }
   ],
   "source": [
    "df.shape"
   ]
  },
  {
   "cell_type": "code",
   "execution_count": 487,
   "id": "50bdb860",
   "metadata": {},
   "outputs": [
    {
     "name": "stdout",
     "output_type": "stream",
     "text": [
      "<class 'pandas.core.frame.DataFrame'>\n",
      "RangeIndex: 566 entries, 0 to 565\n",
      "Data columns (total 8 columns):\n",
      " #   Column                              Non-Null Count  Dtype  \n",
      "---  ------                              --------------  -----  \n",
      " 0   Elementary, Middle, or High School  566 non-null    object \n",
      " 1   City                                566 non-null    object \n",
      " 2   State                               566 non-null    object \n",
      " 3   ZIP Code                            566 non-null    int64  \n",
      " 4   Latitude                            566 non-null    float64\n",
      " 5   Longitude                           566 non-null    float64\n",
      " 6   COMMUNITY_AREA_NAME                 566 non-null    object \n",
      " 7   Location                            566 non-null    object \n",
      "dtypes: float64(2), int64(1), object(5)\n",
      "memory usage: 35.5+ KB\n"
     ]
    }
   ],
   "source": [
    "df.info()"
   ]
  },
  {
   "cell_type": "code",
   "execution_count": 488,
   "id": "3eaac5f1",
   "metadata": {},
   "outputs": [],
   "source": [
    "#we create geometries\n",
    "geometry=gpd.points_from_xy(df.Longitude,df.Latitude)"
   ]
  },
  {
   "cell_type": "code",
   "execution_count": 489,
   "id": "dbd95f4e",
   "metadata": {},
   "outputs": [],
   "source": [
    "#we create a geopandas dataframe\n",
    "gpd_df=gpd.GeoDataFrame(df[[\"Elementary, Middle, or High School\",\"City\",\"State\",\"ZIP Code\",\"Latitude\",\"Longitude\",\"COMMUNITY_AREA_NAME\",\"Location\"]],geometry=geometry)"
   ]
  },
  {
   "cell_type": "code",
   "execution_count": 490,
   "id": "4c254194",
   "metadata": {},
   "outputs": [],
   "source": [
    "# we create a world map \n",
    "world=gpd.read_file(gpd.datasets.get_path(\"naturalearth_lowres\"))\n"
   ]
  },
  {
   "cell_type": "code",
   "execution_count": 492,
   "id": "900bdc5c",
   "metadata": {},
   "outputs": [
    {
     "data": {
      "text/plain": [
       "Text(0.5, 1.0, 'SCHOOL CATEGORIES IN CHICAGO')"
      ]
     },
     "execution_count": 492,
     "metadata": {},
     "output_type": "execute_result"
    },
    {
     "data": {
      "image/png": "[encoded data removed]",
      "text/plain": [
       "<Figure size 1440x2160 with 1 Axes>"
      ]
     },
     "metadata": {
      "needs_background": "light"
     },
     "output_type": "display_data"
    }
   ],
   "source": [
    "# we plot \n",
    "fig, ax = plt.subplots(figsize=(20, 30))\n",
    "world.plot(ax=ax, alpha=0.5, color=\"GREY\",linewidth=2)\n",
    "gpd_df.plot(column=\"Elementary, Middle, or High School\", ax=ax, legend=True)\n",
    "plt.title(\"SCHOOL CATEGORIES IN CHICAGO\")"
   ]
  },
  {
   "cell_type": "code",
   "execution_count": 436,
   "id": "ebd2deff",
   "metadata": {},
   "outputs": [
    {
     "data": {
      "text/html": [
       "<div>\n",
       "<style scoped>\n",
       "    .dataframe tbody tr th:only-of-type {\n",
       "        vertical-align: middle;\n",
       "    }\n",
       "\n",
       "    .dataframe tbody tr th {\n",
       "        vertical-align: top;\n",
       "    }\n",
       "\n",
       "    .dataframe thead th {\n",
       "        text-align: right;\n",
       "    }\n",
       "</style>\n",
       "<table border=\"1\" class=\"dataframe\">\n",
       "  <thead>\n",
       "    <tr style=\"text-align: right;\">\n",
       "      <th></th>\n",
       "      <th>NAME_OF_SCHOOL</th>\n",
       "      <th>City</th>\n",
       "      <th>State</th>\n",
       "      <th>ZIP Code</th>\n",
       "      <th>Latitude</th>\n",
       "      <th>Longitude</th>\n",
       "      <th>COMMUNITY_AREA_NAME</th>\n",
       "      <th>Location</th>\n",
       "      <th>geometry</th>\n",
       "    </tr>\n",
       "  </thead>\n",
       "  <tbody>\n",
       "    <tr>\n",
       "      <th>0</th>\n",
       "      <td>Abraham Lincoln Elementary School</td>\n",
       "      <td>Chicago</td>\n",
       "      <td>IL</td>\n",
       "      <td>60614</td>\n",
       "      <td>41.924497</td>\n",
       "      <td>-87.644522</td>\n",
       "      <td>LINCOLN PARK</td>\n",
       "      <td>(41.92449696, -87.64452163)</td>\n",
       "      <td>POINT (-87.64452 41.92450)</td>\n",
       "    </tr>\n",
       "    <tr>\n",
       "      <th>1</th>\n",
       "      <td>Adam Clayton Powell Paideia Community Academy ...</td>\n",
       "      <td>Chicago</td>\n",
       "      <td>IL</td>\n",
       "      <td>60649</td>\n",
       "      <td>41.760324</td>\n",
       "      <td>-87.556736</td>\n",
       "      <td>SOUTH SHORE</td>\n",
       "      <td>(41.76032435, -87.55673627)</td>\n",
       "      <td>POINT (-87.55674 41.76032)</td>\n",
       "    </tr>\n",
       "    <tr>\n",
       "      <th>2</th>\n",
       "      <td>Adlai E Stevenson Elementary School</td>\n",
       "      <td>Chicago</td>\n",
       "      <td>IL</td>\n",
       "      <td>60652</td>\n",
       "      <td>41.747111</td>\n",
       "      <td>-87.731702</td>\n",
       "      <td>ASHBURN</td>\n",
       "      <td>(41.74711093, -87.73170248)</td>\n",
       "      <td>POINT (-87.73170 41.74711)</td>\n",
       "    </tr>\n",
       "  </tbody>\n",
       "</table>\n",
       "</div>"
      ],
      "text/plain": [
       "                                      NAME_OF_SCHOOL     City State  ZIP Code  \\\n",
       "0                  Abraham Lincoln Elementary School  Chicago    IL     60614   \n",
       "1  Adam Clayton Powell Paideia Community Academy ...  Chicago    IL     60649   \n",
       "2                Adlai E Stevenson Elementary School  Chicago    IL     60652   \n",
       "\n",
       "    Latitude  Longitude COMMUNITY_AREA_NAME                     Location  \\\n",
       "0  41.924497 -87.644522        LINCOLN PARK  (41.92449696, -87.64452163)   \n",
       "1  41.760324 -87.556736         SOUTH SHORE  (41.76032435, -87.55673627)   \n",
       "2  41.747111 -87.731702             ASHBURN  (41.74711093, -87.73170248)   \n",
       "\n",
       "                     geometry  \n",
       "0  POINT (-87.64452 41.92450)  \n",
       "1  POINT (-87.55674 41.76032)  \n",
       "2  POINT (-87.73170 41.74711)  "
      ]
     },
     "execution_count": 436,
     "metadata": {},
     "output_type": "execute_result"
    }
   ],
   "source": [
    "# check out our geo data frame data \n",
    "gpd_df.head(3)"
   ]
  },
  {
   "cell_type": "code",
   "execution_count": 263,
   "id": "dcfaf7af",
   "metadata": {},
   "outputs": [
    {
     "data": {
      "text/plain": [
       "Index(['School ID', 'NAME_OF_SCHOOL', 'Elementary, Middle, or High School',\n",
       "       'Street Address', 'City', 'State', 'ZIP Code', 'Phone Number', 'Link ',\n",
       "       'Network Manager', 'Collaborative Name',\n",
       "       'Adequate Yearly Progress Made? ', 'Track Schedule',\n",
       "       'CPS Performance Policy Status', 'CPS Performance Policy Level',\n",
       "       'HEALTHY_SCHOOL_CERTIFIED', 'Safety Icon ', 'SAFETY_SCORE',\n",
       "       'Family Involvement Icon', 'Family Involvement Score',\n",
       "       'Environment Icon ', 'Environment Score', 'Instruction Icon ',\n",
       "       'Instruction Score', 'Leaders Icon ', 'Leaders Score ',\n",
       "       'Teachers Icon ', 'Teachers Score', 'Parent Engagement Icon ',\n",
       "       'Parent Engagement Score', 'Parent Environment Icon',\n",
       "       'Parent Environment Score', 'AVERAGE_STUDENT_ATTENDANCE',\n",
       "       'Rate of Misconducts (per 100 students) ', 'Average Teacher Attendance',\n",
       "       'Individualized Education Program Compliance Rate ', 'Pk-2 Literacy %',\n",
       "       'Pk-2 Math %', 'Gr3-5 Grade Level Math %', 'Gr3-5 Grade Level Read % ',\n",
       "       'Gr3-5 Keep Pace Read %', 'Gr3-5 Keep Pace Math %',\n",
       "       'Gr6-8 Grade Level Math %', 'Gr6-8 Grade Level Read %',\n",
       "       'Gr6-8 Keep Pace Math%', 'Gr6-8 Keep Pace Read %',\n",
       "       'Gr-8 Explore Math %', 'Gr-8 Explore Read %', 'ISAT Exceeding Math %',\n",
       "       'ISAT Exceeding Reading % ', 'ISAT Value Add Math',\n",
       "       'ISAT Value Add Read', 'ISAT Value Add Color Math',\n",
       "       'ISAT Value Add Color Read', 'Students Taking  Algebra %',\n",
       "       'Students Passing  Algebra %', '9th Grade EXPLORE (2009) ',\n",
       "       '9th Grade EXPLORE (2010) ', '10th Grade PLAN (2009) ',\n",
       "       '10th Grade PLAN (2010) ', 'Net Change EXPLORE and PLAN',\n",
       "       '11th Grade Average ACT (2011) ', 'Net Change PLAN and ACT',\n",
       "       'College Eligibility %', 'Graduation Rate %',\n",
       "       'College Enrollment Rate %', 'COLLEGE_ENROLLMENT',\n",
       "       'General Services Route ', 'Freshman on Track Rate %', 'X_COORDINATE',\n",
       "       'Y_COORDINATE', 'Latitude', 'Longitude', 'COMMUNITY_AREA_NUMBER',\n",
       "       'COMMUNITY_AREA_NAME', 'Ward', 'Police District', 'Location'],\n",
       "      dtype='object')"
      ]
     },
     "execution_count": 263,
     "metadata": {},
     "output_type": "execute_result"
    }
   ],
   "source": [
    "columns={\"Misconduct_percentge_rate\":\"Rate of Misconducts (per 100 students)\"}\n",
    "df.rename(columns)\n",
    "df.columns"
   ]
  },
  {
   "cell_type": "code",
   "execution_count": 257,
   "id": "9ed28b5e",
   "metadata": {},
   "outputs": [
    {
     "name": "stdout",
     "output_type": "stream",
     "text": [
      "<class 'pandas.core.frame.DataFrame'>\n",
      "RangeIndex: 566 entries, 0 to 565\n",
      "Data columns (total 78 columns):\n",
      " #   Column                                             Non-Null Count  Dtype  \n",
      "---  ------                                             --------------  -----  \n",
      " 0   School ID                                          566 non-null    int64  \n",
      " 1   NAME_OF_SCHOOL                                     566 non-null    object \n",
      " 2   Elementary, Middle, or High School                 566 non-null    object \n",
      " 3   Street Address                                     566 non-null    object \n",
      " 4   City                                               566 non-null    object \n",
      " 5   State                                              566 non-null    object \n",
      " 6   ZIP Code                                           566 non-null    int64  \n",
      " 7   Phone Number                                       566 non-null    object \n",
      " 8   Link                                               565 non-null    object \n",
      " 9   Network Manager                                    566 non-null    object \n",
      " 10  Collaborative Name                                 566 non-null    object \n",
      " 11  Adequate Yearly Progress Made?                     566 non-null    object \n",
      " 12  Track Schedule                                     566 non-null    object \n",
      " 13  CPS Performance Policy Status                      566 non-null    object \n",
      " 14  CPS Performance Policy Level                       566 non-null    object \n",
      " 15  HEALTHY_SCHOOL_CERTIFIED                           566 non-null    object \n",
      " 16  Safety Icon                                        566 non-null    object \n",
      " 17  SAFETY_SCORE                                       513 non-null    float64\n",
      " 18  Family Involvement Icon                            566 non-null    object \n",
      " 19  Family Involvement Score                           566 non-null    object \n",
      " 20  Environment Icon                                   566 non-null    object \n",
      " 21  Environment Score                                  513 non-null    float64\n",
      " 22  Instruction Icon                                   566 non-null    object \n",
      " 23  Instruction Score                                  513 non-null    float64\n",
      " 24  Leaders Icon                                       566 non-null    object \n",
      " 25  Leaders Score                                      566 non-null    object \n",
      " 26  Teachers Icon                                      566 non-null    object \n",
      " 27  Teachers Score                                     566 non-null    object \n",
      " 28  Parent Engagement Icon                             566 non-null    object \n",
      " 29  Parent Engagement Score                            566 non-null    object \n",
      " 30  Parent Environment Icon                            566 non-null    object \n",
      " 31  Parent Environment Score                           566 non-null    object \n",
      " 32  AVERAGE_STUDENT_ATTENDANCE                         565 non-null    object \n",
      " 33  Rate of Misconducts (per 100 students)             566 non-null    float64\n",
      " 34  Average Teacher Attendance                         566 non-null    object \n",
      " 35  Individualized Education Program Compliance Rate   566 non-null    object \n",
      " 36  Pk-2 Literacy %                                    566 non-null    object \n",
      " 37  Pk-2 Math %                                        566 non-null    object \n",
      " 38  Gr3-5 Grade Level Math %                           566 non-null    object \n",
      " 39  Gr3-5 Grade Level Read %                           566 non-null    object \n",
      " 40  Gr3-5 Keep Pace Read %                             566 non-null    object \n",
      " 41  Gr3-5 Keep Pace Math %                             566 non-null    object \n",
      " 42  Gr6-8 Grade Level Math %                           566 non-null    object \n",
      " 43  Gr6-8 Grade Level Read %                           566 non-null    object \n",
      " 44  Gr6-8 Keep Pace Math%                              566 non-null    object \n",
      " 45  Gr6-8 Keep Pace Read %                             566 non-null    object \n",
      " 46  Gr-8 Explore Math %                                566 non-null    object \n",
      " 47  Gr-8 Explore Read %                                566 non-null    object \n",
      " 48  ISAT Exceeding Math %                              476 non-null    float64\n",
      " 49  ISAT Exceeding Reading %                           476 non-null    float64\n",
      " 50  ISAT Value Add Math                                468 non-null    float64\n",
      " 51  ISAT Value Add Read                                468 non-null    float64\n",
      " 52  ISAT Value Add Color Math                          566 non-null    object \n",
      " 53  ISAT Value Add Color Read                          566 non-null    object \n",
      " 54  Students Taking  Algebra %                         566 non-null    object \n",
      " 55  Students Passing  Algebra %                        566 non-null    object \n",
      " 56  9th Grade EXPLORE (2009)                           566 non-null    object \n",
      " 57  9th Grade EXPLORE (2010)                           566 non-null    object \n",
      " 58  10th Grade PLAN (2009)                             566 non-null    object \n",
      " 59  10th Grade PLAN (2010)                             566 non-null    object \n",
      " 60  Net Change EXPLORE and PLAN                        566 non-null    object \n",
      " 61  11th Grade Average ACT (2011)                      566 non-null    object \n",
      " 62  Net Change PLAN and ACT                            566 non-null    object \n",
      " 63  College Eligibility %                              566 non-null    object \n",
      " 64  Graduation Rate %                                  566 non-null    object \n",
      " 65  College Enrollment Rate %                          566 non-null    object \n",
      " 66  COLLEGE_ENROLLMENT                                 566 non-null    int64  \n",
      " 67  General Services Route                             566 non-null    int64  \n",
      " 68  Freshman on Track Rate %                           566 non-null    object \n",
      " 69  X_COORDINATE                                       566 non-null    float64\n",
      " 70  Y_COORDINATE                                       566 non-null    float64\n",
      " 71  Latitude                                           566 non-null    float64\n",
      " 72  Longitude                                          566 non-null    float64\n",
      " 73  COMMUNITY_AREA_NUMBER                              566 non-null    int64  \n",
      " 74  COMMUNITY_AREA_NAME                                566 non-null    object \n",
      " 75  Ward                                               566 non-null    int64  \n",
      " 76  Police District                                    566 non-null    int64  \n",
      " 77  Location                                           566 non-null    object \n",
      "dtypes: float64(12), int64(7), object(59)\n",
      "memory usage: 345.0+ KB\n"
     ]
    }
   ],
   "source": [
    "# to have an idea of what we are dealing with \n",
    "df.info()"
   ]
  },
  {
   "cell_type": "code",
   "execution_count": 155,
   "id": "3360389b",
   "metadata": {},
   "outputs": [],
   "source": [
    "# I create a variable to handle a dataframe grouping by the school initials 'highschool, Elementary and Ms'\n",
    "x=df.groupby(\"Elementary, Middle, or High School\").sum()"
   ]
  },
  {
   "cell_type": "code",
   "execution_count": 236,
   "id": "2ab182de",
   "metadata": {},
   "outputs": [
    {
     "data": {
      "text/html": [
       "<div>\n",
       "<style scoped>\n",
       "    .dataframe tbody tr th:only-of-type {\n",
       "        vertical-align: middle;\n",
       "    }\n",
       "\n",
       "    .dataframe tbody tr th {\n",
       "        vertical-align: top;\n",
       "    }\n",
       "\n",
       "    .dataframe thead th {\n",
       "        text-align: right;\n",
       "    }\n",
       "</style>\n",
       "<table border=\"1\" class=\"dataframe\">\n",
       "  <thead>\n",
       "    <tr style=\"text-align: right;\">\n",
       "      <th></th>\n",
       "      <th>School ID</th>\n",
       "      <th>ZIP Code</th>\n",
       "      <th>SAFETY_SCORE</th>\n",
       "      <th>Environment Score</th>\n",
       "      <th>Instruction Score</th>\n",
       "      <th>Rate of Misconducts (per 100 students)</th>\n",
       "      <th>ISAT Exceeding Math %</th>\n",
       "      <th>ISAT Exceeding Reading %</th>\n",
       "      <th>ISAT Value Add Math</th>\n",
       "      <th>ISAT Value Add Read</th>\n",
       "      <th>COLLEGE_ENROLLMENT</th>\n",
       "      <th>General Services Route</th>\n",
       "      <th>X_COORDINATE</th>\n",
       "      <th>Y_COORDINATE</th>\n",
       "      <th>Latitude</th>\n",
       "      <th>Longitude</th>\n",
       "      <th>COMMUNITY_AREA_NUMBER</th>\n",
       "      <th>Ward</th>\n",
       "      <th>Police District</th>\n",
       "    </tr>\n",
       "    <tr>\n",
       "      <th>Elementary, Middle, or High School</th>\n",
       "      <th></th>\n",
       "      <th></th>\n",
       "      <th></th>\n",
       "      <th></th>\n",
       "      <th></th>\n",
       "      <th></th>\n",
       "      <th></th>\n",
       "      <th></th>\n",
       "      <th></th>\n",
       "      <th></th>\n",
       "      <th></th>\n",
       "      <th></th>\n",
       "      <th></th>\n",
       "      <th></th>\n",
       "      <th></th>\n",
       "      <th></th>\n",
       "      <th></th>\n",
       "      <th></th>\n",
       "      <th></th>\n",
       "    </tr>\n",
       "  </thead>\n",
       "  <tbody>\n",
       "    <tr>\n",
       "      <th>ES</th>\n",
       "      <td>281852825</td>\n",
       "      <td>28011122</td>\n",
       "      <td>20650.0</td>\n",
       "      <td>20236.0</td>\n",
       "      <td>20599.0</td>\n",
       "      <td>10401.8</td>\n",
       "      <td>9042.0</td>\n",
       "      <td>7050.8</td>\n",
       "      <td>54.1</td>\n",
       "      <td>25.1</td>\n",
       "      <td>258943</td>\n",
       "      <td>18136</td>\n",
       "      <td>5.374145e+08</td>\n",
       "      <td>8.707969e+08</td>\n",
       "      <td>19329.909537</td>\n",
       "      <td>-40506.563360</td>\n",
       "      <td>17644</td>\n",
       "      <td>10332</td>\n",
       "      <td>5417</td>\n",
       "    </tr>\n",
       "    <tr>\n",
       "      <th>HS</th>\n",
       "      <td>56514565</td>\n",
       "      <td>5638446</td>\n",
       "      <td>4218.0</td>\n",
       "      <td>3886.0</td>\n",
       "      <td>3767.0</td>\n",
       "      <td>1450.5</td>\n",
       "      <td>472.0</td>\n",
       "      <td>302.3</td>\n",
       "      <td>-13.2</td>\n",
       "      <td>-9.0</td>\n",
       "      <td>90130</td>\n",
       "      <td>3585</td>\n",
       "      <td>1.080847e+08</td>\n",
       "      <td>1.756072e+08</td>\n",
       "      <td>3891.957519</td>\n",
       "      <td>-8154.261586</td>\n",
       "      <td>3345</td>\n",
       "      <td>1922</td>\n",
       "      <td>1081</td>\n",
       "    </tr>\n",
       "    <tr>\n",
       "      <th>MS</th>\n",
       "      <td>6712504</td>\n",
       "      <td>666858</td>\n",
       "      <td>528.0</td>\n",
       "      <td>382.0</td>\n",
       "      <td>406.0</td>\n",
       "      <td>82.3</td>\n",
       "      <td>175.6</td>\n",
       "      <td>104.4</td>\n",
       "      <td>-8.8</td>\n",
       "      <td>-5.5</td>\n",
       "      <td>5273</td>\n",
       "      <td>401</td>\n",
       "      <td>1.276780e+07</td>\n",
       "      <td>2.088118e+07</td>\n",
       "      <td>460.642486</td>\n",
       "      <td>-964.539631</td>\n",
       "      <td>353</td>\n",
       "      <td>232</td>\n",
       "      <td>130</td>\n",
       "    </tr>\n",
       "  </tbody>\n",
       "</table>\n",
       "</div>"
      ],
      "text/plain": [
       "                                    School ID  ZIP Code  SAFETY_SCORE  \\\n",
       "Elementary, Middle, or High School                                      \n",
       "ES                                  281852825  28011122       20650.0   \n",
       "HS                                   56514565   5638446        4218.0   \n",
       "MS                                    6712504    666858         528.0   \n",
       "\n",
       "                                    Environment Score  Instruction Score  \\\n",
       "Elementary, Middle, or High School                                         \n",
       "ES                                            20236.0            20599.0   \n",
       "HS                                             3886.0             3767.0   \n",
       "MS                                              382.0              406.0   \n",
       "\n",
       "                                    Rate of Misconducts (per 100 students)   \\\n",
       "Elementary, Middle, or High School                                            \n",
       "ES                                                                  10401.8   \n",
       "HS                                                                   1450.5   \n",
       "MS                                                                     82.3   \n",
       "\n",
       "                                    ISAT Exceeding Math %  \\\n",
       "Elementary, Middle, or High School                          \n",
       "ES                                                 9042.0   \n",
       "HS                                                  472.0   \n",
       "MS                                                  175.6   \n",
       "\n",
       "                                    ISAT Exceeding Reading %   \\\n",
       "Elementary, Middle, or High School                              \n",
       "ES                                                     7050.8   \n",
       "HS                                                      302.3   \n",
       "MS                                                      104.4   \n",
       "\n",
       "                                    ISAT Value Add Math  ISAT Value Add Read  \\\n",
       "Elementary, Middle, or High School                                             \n",
       "ES                                                 54.1                 25.1   \n",
       "HS                                                -13.2                 -9.0   \n",
       "MS                                                 -8.8                 -5.5   \n",
       "\n",
       "                                    COLLEGE_ENROLLMENT  \\\n",
       "Elementary, Middle, or High School                       \n",
       "ES                                              258943   \n",
       "HS                                               90130   \n",
       "MS                                                5273   \n",
       "\n",
       "                                    General Services Route   X_COORDINATE  \\\n",
       "Elementary, Middle, or High School                                          \n",
       "ES                                                    18136  5.374145e+08   \n",
       "HS                                                     3585  1.080847e+08   \n",
       "MS                                                      401  1.276780e+07   \n",
       "\n",
       "                                    Y_COORDINATE      Latitude     Longitude  \\\n",
       "Elementary, Middle, or High School                                             \n",
       "ES                                  8.707969e+08  19329.909537 -40506.563360   \n",
       "HS                                  1.756072e+08   3891.957519  -8154.261586   \n",
       "MS                                  2.088118e+07    460.642486   -964.539631   \n",
       "\n",
       "                                    COMMUNITY_AREA_NUMBER   Ward  \\\n",
       "Elementary, Middle, or High School                                 \n",
       "ES                                                  17644  10332   \n",
       "HS                                                   3345   1922   \n",
       "MS                                                    353    232   \n",
       "\n",
       "                                    Police District  \n",
       "Elementary, Middle, or High School                   \n",
       "ES                                             5417  \n",
       "HS                                             1081  \n",
       "MS                                              130  "
      ]
     },
     "execution_count": 236,
     "metadata": {},
     "output_type": "execute_result"
    }
   ],
   "source": [
    "x"
   ]
  },
  {
   "cell_type": "code",
   "execution_count": 237,
   "id": "6f3ec87e",
   "metadata": {},
   "outputs": [
    {
     "data": {
      "text/plain": [
       "Elementary, Middle, or High School\n",
       "ES    20650.0\n",
       "HS     4218.0\n",
       "MS      528.0\n",
       "Name: SAFETY_SCORE, dtype: float64"
      ]
     },
     "execution_count": 237,
     "metadata": {},
     "output_type": "execute_result"
    }
   ],
   "source": [
    "# This shows us the total safety_scores of each school level\n",
    "Total_school_safety=x[\"SAFETY_SCORE\"]\n",
    "Total_school_safety\n"
   ]
  },
  {
   "cell_type": "code",
   "execution_count": 273,
   "id": "923b4712",
   "metadata": {},
   "outputs": [
    {
     "data": {
      "text/plain": [
       "Elementary, Middle, or High School\n",
       "ES    10332\n",
       "HS     1922\n",
       "MS      232\n",
       "Name: Ward, dtype: int64"
      ]
     },
     "execution_count": 273,
     "metadata": {},
     "output_type": "execute_result"
    }
   ],
   "source": [
    "#Total number of those that end up in a ward from the specific school levels \n",
    "Number_In_Ward=x[\"Ward\"]\n",
    "Number_In_Ward\n"
   ]
  },
  {
   "cell_type": "code",
   "execution_count": 197,
   "id": "9e95ac7d",
   "metadata": {},
   "outputs": [
    {
     "data": {
      "text/plain": [
       "Elementary, Middle, or High School\n",
       "ES    258943\n",
       "HS     90130\n",
       "MS      5273\n",
       "Name: COLLEGE_ENROLLMENT, dtype: int64"
      ]
     },
     "execution_count": 197,
     "metadata": {},
     "output_type": "execute_result"
    }
   ],
   "source": [
    "# With this data we can see how many get enrolled into college from each of the school levels\n",
    "College_enrollment_Levels=x[\"COLLEGE_ENROLLMENT\"]\n",
    "College_enrollment_Levels\n"
   ]
  },
  {
   "cell_type": "code",
   "execution_count": 209,
   "id": "f649fc0b",
   "metadata": {},
   "outputs": [
    {
     "data": {
      "text/plain": [
       "Elementary, Middle, or High School\n",
       "ES    17644\n",
       "HS     3345\n",
       "MS      353\n",
       "Name: COMMUNITY_AREA_NUMBER, dtype: int64"
      ]
     },
     "execution_count": 209,
     "metadata": {},
     "output_type": "execute_result"
    }
   ],
   "source": [
    "Community_Area_Numbers=x[\"COMMUNITY_AREA_NUMBER\"]\n",
    "Community_Area_Numbers\n"
   ]
  },
  {
   "cell_type": "code",
   "execution_count": 275,
   "id": "d5cf80d7",
   "metadata": {},
   "outputs": [
    {
     "data": {
      "text/plain": [
       "<AxesSubplot:title={'center':'College Enrollment Level'}, xlabel='Elementary, Middle, or High School'>"
      ]
     },
     "execution_count": 275,
     "metadata": {},
     "output_type": "execute_result"
    },
    {
     "data": {
      "image/png": "[encoded data removed]",
      "text/plain": [
       "<Figure size 1440x1080 with 4 Axes>"
      ]
     },
     "metadata": {
      "needs_background": "light"
     },
     "output_type": "display_data"
    }
   ],
   "source": [
    "# I BEGIN BY CREATING A VARIABLE NAMED FIG WHERE I PLOT MY FIGURE AND ASSIGN IN XRISTICS\n",
    "fig=plt.figure(figsize=(20,15))\n",
    "#I add a subplot to the figure using the add_subplot and specifing the plot sizes\n",
    "ax=fig.add_subplot(221)\n",
    "# I start ploting my plots and specifing xristics \n",
    "Total_school_safety.plot(kind=\"bar\",color=\"pink\",title=\"Total School Safety\")\n",
    "ax=fig.add_subplot(222)\n",
    "# I start ploting my plots and specifing xristics\n",
    "Community_Area_Numbers.plot(kind=\"bar\",color=\"maroon\",title=\"Community Area Number\")\n",
    "ax=fig.add_subplot(223)\n",
    "# I start ploting my plots and specifing xristics\n",
    "Number_In_Ward.plot(kind=\"bar\",color=\"purple\",title=\"Number of pupils that end up in a ward\")\n",
    "ax=fig.add_subplot(224)\n",
    "# I start ploting my plots and specifing xristics\n",
    "College_enrollment_Levels.plot(kind=\"bar\",color=\"green\",title=\"College Enrollment Level\")\n",
    "\n",
    "\n",
    "\n"
   ]
  },
  {
   "cell_type": "code",
   "execution_count": 407,
   "id": "fe6b602e",
   "metadata": {},
   "outputs": [],
   "source": [
    "data=pd.read_csv(\"chicago_Public_Schools.csv\",usecols=[\"COMMUNITY_AREA_NAME\",\"City\"])"
   ]
  },
  {
   "cell_type": "code",
   "execution_count": 408,
   "id": "2feb1893",
   "metadata": {},
   "outputs": [
    {
     "data": {
      "text/html": [
       "<div>\n",
       "<style scoped>\n",
       "    .dataframe tbody tr th:only-of-type {\n",
       "        vertical-align: middle;\n",
       "    }\n",
       "\n",
       "    .dataframe tbody tr th {\n",
       "        vertical-align: top;\n",
       "    }\n",
       "\n",
       "    .dataframe thead th {\n",
       "        text-align: right;\n",
       "    }\n",
       "</style>\n",
       "<table border=\"1\" class=\"dataframe\">\n",
       "  <thead>\n",
       "    <tr style=\"text-align: right;\">\n",
       "      <th></th>\n",
       "      <th>City</th>\n",
       "      <th>COMMUNITY_AREA_NAME</th>\n",
       "    </tr>\n",
       "  </thead>\n",
       "  <tbody>\n",
       "    <tr>\n",
       "      <th>0</th>\n",
       "      <td>Chicago</td>\n",
       "      <td>LINCOLN PARK</td>\n",
       "    </tr>\n",
       "    <tr>\n",
       "      <th>1</th>\n",
       "      <td>Chicago</td>\n",
       "      <td>SOUTH SHORE</td>\n",
       "    </tr>\n",
       "  </tbody>\n",
       "</table>\n",
       "</div>"
      ],
      "text/plain": [
       "      City COMMUNITY_AREA_NAME\n",
       "0  Chicago        LINCOLN PARK\n",
       "1  Chicago         SOUTH SHORE"
      ]
     },
     "execution_count": 408,
     "metadata": {},
     "output_type": "execute_result"
    }
   ],
   "source": [
    "data.head(2)"
   ]
  },
  {
   "cell_type": "code",
   "execution_count": 410,
   "id": "9e5f1cd5",
   "metadata": {},
   "outputs": [
    {
     "data": {
      "text/html": [
       "<div>\n",
       "<style scoped>\n",
       "    .dataframe tbody tr th:only-of-type {\n",
       "        vertical-align: middle;\n",
       "    }\n",
       "\n",
       "    .dataframe tbody tr th {\n",
       "        vertical-align: top;\n",
       "    }\n",
       "\n",
       "    .dataframe thead th {\n",
       "        text-align: right;\n",
       "    }\n",
       "</style>\n",
       "<table border=\"1\" class=\"dataframe\">\n",
       "  <thead>\n",
       "    <tr style=\"text-align: right;\">\n",
       "      <th></th>\n",
       "      <th>City</th>\n",
       "      <th>COMMUNITY_AREA_NAME</th>\n",
       "    </tr>\n",
       "  </thead>\n",
       "  <tbody>\n",
       "    <tr>\n",
       "      <th>0</th>\n",
       "      <td>Chicago</td>\n",
       "      <td>LINCOLN PARK</td>\n",
       "    </tr>\n",
       "    <tr>\n",
       "      <th>1</th>\n",
       "      <td>Chicago</td>\n",
       "      <td>SOUTH SHORE</td>\n",
       "    </tr>\n",
       "    <tr>\n",
       "      <th>2</th>\n",
       "      <td>Chicago</td>\n",
       "      <td>ASHBURN</td>\n",
       "    </tr>\n",
       "    <tr>\n",
       "      <th>3</th>\n",
       "      <td>Chicago</td>\n",
       "      <td>NEW CITY</td>\n",
       "    </tr>\n",
       "    <tr>\n",
       "      <th>4</th>\n",
       "      <td>Chicago</td>\n",
       "      <td>ARMOUR SQUARE</td>\n",
       "    </tr>\n",
       "    <tr>\n",
       "      <th>...</th>\n",
       "      <td>...</td>\n",
       "      <td>...</td>\n",
       "    </tr>\n",
       "    <tr>\n",
       "      <th>561</th>\n",
       "      <td>Chicago</td>\n",
       "      <td>NEW CITY</td>\n",
       "    </tr>\n",
       "    <tr>\n",
       "      <th>562</th>\n",
       "      <td>Chicago</td>\n",
       "      <td>WASHINGTON PARK</td>\n",
       "    </tr>\n",
       "    <tr>\n",
       "      <th>563</th>\n",
       "      <td>Chicago</td>\n",
       "      <td>LOGAN SQUARE</td>\n",
       "    </tr>\n",
       "    <tr>\n",
       "      <th>564</th>\n",
       "      <td>Chicago</td>\n",
       "      <td>WOODLAWN</td>\n",
       "    </tr>\n",
       "    <tr>\n",
       "      <th>565</th>\n",
       "      <td>Chicago</td>\n",
       "      <td>SOUTH LAWNDALE</td>\n",
       "    </tr>\n",
       "  </tbody>\n",
       "</table>\n",
       "<p>566 rows × 2 columns</p>\n",
       "</div>"
      ],
      "text/plain": [
       "        City COMMUNITY_AREA_NAME\n",
       "0    Chicago        LINCOLN PARK\n",
       "1    Chicago         SOUTH SHORE\n",
       "2    Chicago             ASHBURN\n",
       "3    Chicago            NEW CITY\n",
       "4    Chicago       ARMOUR SQUARE\n",
       "..       ...                 ...\n",
       "561  Chicago            NEW CITY\n",
       "562  Chicago     WASHINGTON PARK\n",
       "563  Chicago        LOGAN SQUARE\n",
       "564  Chicago            WOODLAWN\n",
       "565  Chicago      SOUTH LAWNDALE\n",
       "\n",
       "[566 rows x 2 columns]"
      ]
     },
     "execution_count": 410,
     "metadata": {},
     "output_type": "execute_result"
    }
   ],
   "source": [
    "data"
   ]
  },
  {
   "cell_type": "code",
   "execution_count": 411,
   "id": "47985c03",
   "metadata": {},
   "outputs": [
    {
     "name": "stdout",
     "output_type": "stream",
     "text": [
      "<class 'pandas.core.frame.DataFrame'>\n",
      "RangeIndex: 566 entries, 0 to 565\n",
      "Data columns (total 2 columns):\n",
      " #   Column               Non-Null Count  Dtype \n",
      "---  ------               --------------  ----- \n",
      " 0   City                 566 non-null    object\n",
      " 1   COMMUNITY_AREA_NAME  566 non-null    object\n",
      "dtypes: object(2)\n",
      "memory usage: 9.0+ KB\n"
     ]
    }
   ],
   "source": [
    "data.info()"
   ]
  },
  {
   "cell_type": "code",
   "execution_count": 412,
   "id": "1160a38e",
   "metadata": {},
   "outputs": [
    {
     "data": {
      "text/html": [
       "<div>\n",
       "<style scoped>\n",
       "    .dataframe tbody tr th:only-of-type {\n",
       "        vertical-align: middle;\n",
       "    }\n",
       "\n",
       "    .dataframe tbody tr th {\n",
       "        vertical-align: top;\n",
       "    }\n",
       "\n",
       "    .dataframe thead th {\n",
       "        text-align: right;\n",
       "    }\n",
       "</style>\n",
       "<table border=\"1\" class=\"dataframe\">\n",
       "  <thead>\n",
       "    <tr style=\"text-align: right;\">\n",
       "      <th></th>\n",
       "      <th>name</th>\n",
       "      <th>geometry</th>\n",
       "    </tr>\n",
       "  </thead>\n",
       "  <tbody>\n",
       "    <tr>\n",
       "      <th>0</th>\n",
       "      <td>Vatican City</td>\n",
       "      <td>POINT (12.45339 41.90328)</td>\n",
       "    </tr>\n",
       "    <tr>\n",
       "      <th>1</th>\n",
       "      <td>San Marino</td>\n",
       "      <td>POINT (12.44177 43.93610)</td>\n",
       "    </tr>\n",
       "    <tr>\n",
       "      <th>2</th>\n",
       "      <td>Vaduz</td>\n",
       "      <td>POINT (9.51667 47.13372)</td>\n",
       "    </tr>\n",
       "    <tr>\n",
       "      <th>3</th>\n",
       "      <td>Lobamba</td>\n",
       "      <td>POINT (31.20000 -26.46667)</td>\n",
       "    </tr>\n",
       "    <tr>\n",
       "      <th>4</th>\n",
       "      <td>Luxembourg</td>\n",
       "      <td>POINT (6.13000 49.61166)</td>\n",
       "    </tr>\n",
       "    <tr>\n",
       "      <th>...</th>\n",
       "      <td>...</td>\n",
       "      <td>...</td>\n",
       "    </tr>\n",
       "    <tr>\n",
       "      <th>238</th>\n",
       "      <td>Rio de Janeiro</td>\n",
       "      <td>POINT (-43.21212 -22.90731)</td>\n",
       "    </tr>\n",
       "    <tr>\n",
       "      <th>239</th>\n",
       "      <td>São Paulo</td>\n",
       "      <td>POINT (-46.62697 -23.55673)</td>\n",
       "    </tr>\n",
       "    <tr>\n",
       "      <th>240</th>\n",
       "      <td>Sydney</td>\n",
       "      <td>POINT (151.21255 -33.87137)</td>\n",
       "    </tr>\n",
       "    <tr>\n",
       "      <th>241</th>\n",
       "      <td>Singapore</td>\n",
       "      <td>POINT (103.85387 1.29498)</td>\n",
       "    </tr>\n",
       "    <tr>\n",
       "      <th>242</th>\n",
       "      <td>Hong Kong</td>\n",
       "      <td>POINT (114.18306 22.30693)</td>\n",
       "    </tr>\n",
       "  </tbody>\n",
       "</table>\n",
       "<p>243 rows × 2 columns</p>\n",
       "</div>"
      ],
      "text/plain": [
       "               name                     geometry\n",
       "0      Vatican City    POINT (12.45339 41.90328)\n",
       "1        San Marino    POINT (12.44177 43.93610)\n",
       "2             Vaduz     POINT (9.51667 47.13372)\n",
       "3           Lobamba   POINT (31.20000 -26.46667)\n",
       "4        Luxembourg     POINT (6.13000 49.61166)\n",
       "..              ...                          ...\n",
       "238  Rio de Janeiro  POINT (-43.21212 -22.90731)\n",
       "239       São Paulo  POINT (-46.62697 -23.55673)\n",
       "240          Sydney  POINT (151.21255 -33.87137)\n",
       "241       Singapore    POINT (103.85387 1.29498)\n",
       "242       Hong Kong   POINT (114.18306 22.30693)\n",
       "\n",
       "[243 rows x 2 columns]"
      ]
     },
     "execution_count": 412,
     "metadata": {},
     "output_type": "execute_result"
    }
   ],
   "source": [
    "world = gpd.read_file(gpd.datasets.get_path('naturalearth_cities'))\n",
    "world\n"
   ]
  },
  {
   "cell_type": "code",
   "execution_count": 413,
   "id": "e23233e3",
   "metadata": {},
   "outputs": [],
   "source": [
    "cities=world.join(data)"
   ]
  },
  {
   "cell_type": "code",
   "execution_count": 414,
   "id": "63826db5",
   "metadata": {},
   "outputs": [
    {
     "data": {
      "text/html": [
       "<div>\n",
       "<style scoped>\n",
       "    .dataframe tbody tr th:only-of-type {\n",
       "        vertical-align: middle;\n",
       "    }\n",
       "\n",
       "    .dataframe tbody tr th {\n",
       "        vertical-align: top;\n",
       "    }\n",
       "\n",
       "    .dataframe thead th {\n",
       "        text-align: right;\n",
       "    }\n",
       "</style>\n",
       "<table border=\"1\" class=\"dataframe\">\n",
       "  <thead>\n",
       "    <tr style=\"text-align: right;\">\n",
       "      <th></th>\n",
       "      <th>name</th>\n",
       "      <th>geometry</th>\n",
       "      <th>City</th>\n",
       "      <th>COMMUNITY_AREA_NAME</th>\n",
       "    </tr>\n",
       "  </thead>\n",
       "  <tbody>\n",
       "    <tr>\n",
       "      <th>0</th>\n",
       "      <td>Vatican City</td>\n",
       "      <td>POINT (12.45339 41.90328)</td>\n",
       "      <td>Chicago</td>\n",
       "      <td>LINCOLN PARK</td>\n",
       "    </tr>\n",
       "    <tr>\n",
       "      <th>1</th>\n",
       "      <td>San Marino</td>\n",
       "      <td>POINT (12.44177 43.93610)</td>\n",
       "      <td>Chicago</td>\n",
       "      <td>SOUTH SHORE</td>\n",
       "    </tr>\n",
       "    <tr>\n",
       "      <th>2</th>\n",
       "      <td>Vaduz</td>\n",
       "      <td>POINT (9.51667 47.13372)</td>\n",
       "      <td>Chicago</td>\n",
       "      <td>ASHBURN</td>\n",
       "    </tr>\n",
       "    <tr>\n",
       "      <th>3</th>\n",
       "      <td>Lobamba</td>\n",
       "      <td>POINT (31.20000 -26.46667)</td>\n",
       "      <td>Chicago</td>\n",
       "      <td>NEW CITY</td>\n",
       "    </tr>\n",
       "    <tr>\n",
       "      <th>4</th>\n",
       "      <td>Luxembourg</td>\n",
       "      <td>POINT (6.13000 49.61166)</td>\n",
       "      <td>Chicago</td>\n",
       "      <td>ARMOUR SQUARE</td>\n",
       "    </tr>\n",
       "    <tr>\n",
       "      <th>...</th>\n",
       "      <td>...</td>\n",
       "      <td>...</td>\n",
       "      <td>...</td>\n",
       "      <td>...</td>\n",
       "    </tr>\n",
       "    <tr>\n",
       "      <th>238</th>\n",
       "      <td>Rio de Janeiro</td>\n",
       "      <td>POINT (-43.21212 -22.90731)</td>\n",
       "      <td>Chicago</td>\n",
       "      <td>SOUTH SHORE</td>\n",
       "    </tr>\n",
       "    <tr>\n",
       "      <th>239</th>\n",
       "      <td>São Paulo</td>\n",
       "      <td>POINT (-46.62697 -23.55673)</td>\n",
       "      <td>Chicago</td>\n",
       "      <td>OAKLAND</td>\n",
       "    </tr>\n",
       "    <tr>\n",
       "      <th>240</th>\n",
       "      <td>Sydney</td>\n",
       "      <td>POINT (151.21255 -33.87137)</td>\n",
       "      <td>Chicago</td>\n",
       "      <td>EAST GARFIELD PARK</td>\n",
       "    </tr>\n",
       "    <tr>\n",
       "      <th>241</th>\n",
       "      <td>Singapore</td>\n",
       "      <td>POINT (103.85387 1.29498)</td>\n",
       "      <td>Chicago</td>\n",
       "      <td>PORTAGE PARK</td>\n",
       "    </tr>\n",
       "    <tr>\n",
       "      <th>242</th>\n",
       "      <td>Hong Kong</td>\n",
       "      <td>POINT (114.18306 22.30693)</td>\n",
       "      <td>Chicago</td>\n",
       "      <td>JEFFERSON PARK</td>\n",
       "    </tr>\n",
       "  </tbody>\n",
       "</table>\n",
       "<p>243 rows × 4 columns</p>\n",
       "</div>"
      ],
      "text/plain": [
       "               name                     geometry     City COMMUNITY_AREA_NAME\n",
       "0      Vatican City    POINT (12.45339 41.90328)  Chicago        LINCOLN PARK\n",
       "1        San Marino    POINT (12.44177 43.93610)  Chicago         SOUTH SHORE\n",
       "2             Vaduz     POINT (9.51667 47.13372)  Chicago             ASHBURN\n",
       "3           Lobamba   POINT (31.20000 -26.46667)  Chicago            NEW CITY\n",
       "4        Luxembourg     POINT (6.13000 49.61166)  Chicago       ARMOUR SQUARE\n",
       "..              ...                          ...      ...                 ...\n",
       "238  Rio de Janeiro  POINT (-43.21212 -22.90731)  Chicago         SOUTH SHORE\n",
       "239       São Paulo  POINT (-46.62697 -23.55673)  Chicago             OAKLAND\n",
       "240          Sydney  POINT (151.21255 -33.87137)  Chicago  EAST GARFIELD PARK\n",
       "241       Singapore    POINT (103.85387 1.29498)  Chicago        PORTAGE PARK\n",
       "242       Hong Kong   POINT (114.18306 22.30693)  Chicago      JEFFERSON PARK\n",
       "\n",
       "[243 rows x 4 columns]"
      ]
     },
     "execution_count": 414,
     "metadata": {},
     "output_type": "execute_result"
    }
   ],
   "source": [
    "#joining the world data to our csv data \n",
    "cities"
   ]
  },
  {
   "cell_type": "code",
   "execution_count": 415,
   "id": "e01e62e5",
   "metadata": {},
   "outputs": [
    {
     "name": "stdout",
     "output_type": "stream",
     "text": [
      "<class 'geopandas.geodataframe.GeoDataFrame'>\n",
      "RangeIndex: 243 entries, 0 to 242\n",
      "Data columns (total 4 columns):\n",
      " #   Column               Non-Null Count  Dtype   \n",
      "---  ------               --------------  -----   \n",
      " 0   name                 243 non-null    object  \n",
      " 1   geometry             243 non-null    geometry\n",
      " 2   City                 243 non-null    object  \n",
      " 3   COMMUNITY_AREA_NAME  243 non-null    object  \n",
      "dtypes: geometry(1), object(3)\n",
      "memory usage: 7.7+ KB\n"
     ]
    }
   ],
   "source": [
    "cities.info()"
   ]
  }
 ],
 "metadata": {
  "kernelspec": {
   "display_name": "Python 3 (ipykernel)",
   "language": "python",
   "name": "python3"
  },
  "language_info": {
   "codemirror_mode": {
    "name": "ipython",
    "version": 3
   },
   "file_extension": ".py",
   "mimetype": "text/x-python",
   "name": "python",
   "nbconvert_exporter": "python",
   "pygments_lexer": "ipython3",
   "version": "3.9.12"
  }
 },
 "nbformat": 4,
 "nbformat_minor": 5
}
