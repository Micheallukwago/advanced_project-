{
 "cells": [
  {
   "cell_type": "code",
   "execution_count": 149,
   "id": "7f670ba5",
   "metadata": {
    "scrolled": true
   },
   "outputs": [
    {
     "data": {
      "text/html": [
       "<div>\n",
       "<style scoped>\n",
       "    .dataframe tbody tr th:only-of-type {\n",
       "        vertical-align: middle;\n",
       "    }\n",
       "\n",
       "    .dataframe tbody tr th {\n",
       "        vertical-align: top;\n",
       "    }\n",
       "\n",
       "    .dataframe thead th {\n",
       "        text-align: right;\n",
       "    }\n",
       "</style>\n",
       "<table border=\"1\" class=\"dataframe\">\n",
       "  <thead>\n",
       "    <tr style=\"text-align: right;\">\n",
       "      <th></th>\n",
       "      <th>0</th>\n",
       "      <th>1</th>\n",
       "      <th>2</th>\n",
       "      <th>3</th>\n",
       "      <th>4</th>\n",
       "      <th>5</th>\n",
       "    </tr>\n",
       "  </thead>\n",
       "  <tbody>\n",
       "    <tr>\n",
       "      <th>0</th>\n",
       "      <td>PRICE</td>\n",
       "      <td>brand</td>\n",
       "      <td>NO FRILLS</td>\n",
       "      <td>WALLMART</td>\n",
       "      <td>sale</td>\n",
       "      <td>capacity</td>\n",
       "    </tr>\n",
       "    <tr>\n",
       "      <th>1</th>\n",
       "      <td>bread</td>\n",
       "      <td>country harvest</td>\n",
       "      <td>2.77</td>\n",
       "      <td>3.47</td>\n",
       "      <td>NaN</td>\n",
       "      <td>450g</td>\n",
       "    </tr>\n",
       "    <tr>\n",
       "      <th>2</th>\n",
       "      <td>milk</td>\n",
       "      <td>skimmd milk 1 %</td>\n",
       "      <td>5.89</td>\n",
       "      <td>5.89</td>\n",
       "      <td>NaN</td>\n",
       "      <td>4 litres</td>\n",
       "    </tr>\n",
       "    <tr>\n",
       "      <th>3</th>\n",
       "      <td>eggs</td>\n",
       "      <td>no brand &amp; grey white</td>\n",
       "      <td>9.29</td>\n",
       "      <td>8.48</td>\n",
       "      <td>NaN</td>\n",
       "      <td>30 egss</td>\n",
       "    </tr>\n",
       "    <tr>\n",
       "      <th>4</th>\n",
       "      <td>toilet paper</td>\n",
       "      <td>no name  &amp; cashmere soft</td>\n",
       "      <td>11.99</td>\n",
       "      <td>10.97</td>\n",
       "      <td>NaN</td>\n",
       "      <td>24 rolls</td>\n",
       "    </tr>\n",
       "  </tbody>\n",
       "</table>\n",
       "</div>"
      ],
      "text/plain": [
       "               0                          1           2         3     4  \\\n",
       "0         PRICE                      brand   NO FRILLS   WALLMART  sale   \n",
       "1          bread           country harvest         2.77      3.47   NaN   \n",
       "2           milk            skimmd milk 1 %        5.89      5.89   NaN   \n",
       "3           eggs     no brand & grey white         9.29      8.48   NaN   \n",
       "4  toilet paper   no name  & cashmere soft        11.99     10.97   NaN   \n",
       "\n",
       "           5  \n",
       "0  capacity   \n",
       "1       450g  \n",
       "2   4 litres  \n",
       "3    30 egss  \n",
       "4   24 rolls  "
      ]
     },
     "execution_count": 149,
     "metadata": {},
     "output_type": "execute_result"
    }
   ],
   "source": [
    "## installing vital libraries \n",
    "import pandas as pd \n",
    "import numpy as np\n",
    "import matplotlib.pyplot as plt\n",
    "\n",
    "## Reading excel file without headers \n",
    "\n",
    "df=pd.read_excel(r\"LIST.xlsx\",header=None)\n",
    "df.head()"
   ]
  },
  {
   "cell_type": "code",
   "execution_count": 150,
   "id": "acfe5df8",
   "metadata": {},
   "outputs": [
    {
     "data": {
      "text/plain": [
       "',PRICE,BRAND,NO FRILLZ,WALLMART,SALE,CAPACITY\\r\\n0,PRICE ,brand ,NO FRILLS ,WALLMART,sale,capacity \\r\\n1,bread,country harvest ,2.77,3.47,,450g\\r\\n2,milk,skimmd milk 1 %,5.89,5.89,,4 litres\\r\\n3,eggs,no brand & grey white ,9.29,8.48,,30 egss\\r\\n4,toilet paper ,no name  & cashmere soft ,11.99,10.97,,24 rolls\\r\\n5,Paratha,casa mendosa tortillas,3.99,3.67,2 for 6 ,640g\\r\\n6,intant oats ,quakers,5.26,3.97,,1kg\\r\\n7,blueberries,,3.22,3.97,,170g\\r\\n8,blackberries,,3.22,3.97,,170g\\r\\n9,strawberries,,,,,\\r\\n10,raspberries,,,,,\\r\\n11,bananas,,1.5P,0.4P,,brunch at frills and one at mart \\r\\n12,lemon,bag of lemons ,3.88,4.88,,2 pounds\\r\\n13,fresh spinach,baby spinach ,3.99,3.97,,142g\\r\\n14,carrots,mini carrots ,1.99,2.87,,340g\\r\\n15,grapes,,,,,\\r\\n16,Flour,great value & no name,4.29,3.97,,2.5kgs\\r\\n17,pancake mix ,,3.79,2.48,,\\r\\n18,SUM ,,63.57,62.56,,\\r\\n19,AVERAGE ,,4.89,4.812307692,,\\r\\n20,MAX ,,11.99,10.97,,\\r\\n21,MIN ,,1.99,2.48,,\\r\\n'"
      ]
     },
     "execution_count": 150,
     "metadata": {},
     "output_type": "execute_result"
    }
   ],
   "source": [
    "###converting dataframe into csv\n",
    "csv_data=df.to_csv(sep=\",\",header=[\"PRICE\",\"BRAND\",\"NO FRILLZ\",\"WALLMART\",\"SALE\",\"CAPACITY\"])\n",
    "csv_data"
   ]
  },
  {
   "cell_type": "code",
   "execution_count": 151,
   "id": "66e72120",
   "metadata": {},
   "outputs": [],
   "source": [
    "##renaming the indices with names to form headers for the dataframe\n",
    "df.rename(columns={0:\"PRODUCT\",1:\"BRAND\",2:\"NO FRILLZ\",3:\"WALLMART\",4:\"SALE\",5:\"CAPACITY\"},inplace=True)\n",
    "\n",
    "\n"
   ]
  },
  {
   "cell_type": "code",
   "execution_count": 152,
   "id": "fd9e87ec",
   "metadata": {},
   "outputs": [
    {
     "data": {
      "text/plain": [
       "Index(['PRODUCT', 'BRAND', 'NO FRILLZ', 'WALLMART', 'SALE', 'CAPACITY'], dtype='object')"
      ]
     },
     "execution_count": 152,
     "metadata": {},
     "output_type": "execute_result"
    }
   ],
   "source": [
    "## checking if columns are labelled as intended \n",
    "df.columns"
   ]
  },
  {
   "cell_type": "code",
   "execution_count": 153,
   "id": "e31ba508",
   "metadata": {},
   "outputs": [
    {
     "data": {
      "text/plain": [
       "RangeIndex(start=0, stop=22, step=1)"
      ]
     },
     "execution_count": 153,
     "metadata": {},
     "output_type": "execute_result"
    }
   ],
   "source": [
    "## CHECKING THE ROW INDICES \n",
    "df.index"
   ]
  },
  {
   "cell_type": "code",
   "execution_count": 154,
   "id": "d65127d7",
   "metadata": {},
   "outputs": [],
   "source": [
    "## DROPPPING UNNECESSARY COLUMNS\n",
    "del df[\"SALE\"]\n"
   ]
  },
  {
   "cell_type": "code",
   "execution_count": 155,
   "id": "11b81b83",
   "metadata": {},
   "outputs": [
    {
     "data": {
      "text/html": [
       "<div>\n",
       "<style scoped>\n",
       "    .dataframe tbody tr th:only-of-type {\n",
       "        vertical-align: middle;\n",
       "    }\n",
       "\n",
       "    .dataframe tbody tr th {\n",
       "        vertical-align: top;\n",
       "    }\n",
       "\n",
       "    .dataframe thead th {\n",
       "        text-align: right;\n",
       "    }\n",
       "</style>\n",
       "<table border=\"1\" class=\"dataframe\">\n",
       "  <thead>\n",
       "    <tr style=\"text-align: right;\">\n",
       "      <th></th>\n",
       "      <th>PRODUCT</th>\n",
       "      <th>BRAND</th>\n",
       "      <th>NO FRILLZ</th>\n",
       "      <th>WALLMART</th>\n",
       "      <th>CAPACITY</th>\n",
       "    </tr>\n",
       "  </thead>\n",
       "  <tbody>\n",
       "    <tr>\n",
       "      <th>0</th>\n",
       "      <td>PRICE</td>\n",
       "      <td>brand</td>\n",
       "      <td>NO FRILLS</td>\n",
       "      <td>WALLMART</td>\n",
       "      <td>capacity</td>\n",
       "    </tr>\n",
       "    <tr>\n",
       "      <th>1</th>\n",
       "      <td>bread</td>\n",
       "      <td>country harvest</td>\n",
       "      <td>2.77</td>\n",
       "      <td>3.47</td>\n",
       "      <td>450g</td>\n",
       "    </tr>\n",
       "    <tr>\n",
       "      <th>2</th>\n",
       "      <td>milk</td>\n",
       "      <td>skimmd milk 1 %</td>\n",
       "      <td>5.89</td>\n",
       "      <td>5.89</td>\n",
       "      <td>4 litres</td>\n",
       "    </tr>\n",
       "    <tr>\n",
       "      <th>3</th>\n",
       "      <td>eggs</td>\n",
       "      <td>no brand &amp; grey white</td>\n",
       "      <td>9.29</td>\n",
       "      <td>8.48</td>\n",
       "      <td>30 egss</td>\n",
       "    </tr>\n",
       "    <tr>\n",
       "      <th>4</th>\n",
       "      <td>toilet paper</td>\n",
       "      <td>no name  &amp; cashmere soft</td>\n",
       "      <td>11.99</td>\n",
       "      <td>10.97</td>\n",
       "      <td>24 rolls</td>\n",
       "    </tr>\n",
       "  </tbody>\n",
       "</table>\n",
       "</div>"
      ],
      "text/plain": [
       "         PRODUCT                      BRAND   NO FRILLZ  WALLMART   CAPACITY\n",
       "0         PRICE                      brand   NO FRILLS   WALLMART  capacity \n",
       "1          bread           country harvest         2.77      3.47       450g\n",
       "2           milk            skimmd milk 1 %        5.89      5.89   4 litres\n",
       "3           eggs     no brand & grey white         9.29      8.48    30 egss\n",
       "4  toilet paper   no name  & cashmere soft        11.99     10.97   24 rolls"
      ]
     },
     "execution_count": 155,
     "metadata": {},
     "output_type": "execute_result"
    }
   ],
   "source": [
    "## checking if column is dropped \n",
    "df.head()"
   ]
  },
  {
   "cell_type": "code",
   "execution_count": 156,
   "id": "1009e85a",
   "metadata": {},
   "outputs": [
    {
     "data": {
      "text/html": [
       "<div>\n",
       "<style scoped>\n",
       "    .dataframe tbody tr th:only-of-type {\n",
       "        vertical-align: middle;\n",
       "    }\n",
       "\n",
       "    .dataframe tbody tr th {\n",
       "        vertical-align: top;\n",
       "    }\n",
       "\n",
       "    .dataframe thead th {\n",
       "        text-align: right;\n",
       "    }\n",
       "</style>\n",
       "<table border=\"1\" class=\"dataframe\">\n",
       "  <thead>\n",
       "    <tr style=\"text-align: right;\">\n",
       "      <th></th>\n",
       "      <th>PRODUCT</th>\n",
       "      <th>BRAND</th>\n",
       "      <th>NO FRILLZ</th>\n",
       "      <th>WALLMART</th>\n",
       "      <th>CAPACITY</th>\n",
       "    </tr>\n",
       "  </thead>\n",
       "  <tbody>\n",
       "    <tr>\n",
       "      <th>0</th>\n",
       "      <td>PRICE</td>\n",
       "      <td>brand</td>\n",
       "      <td>NO FRILLS</td>\n",
       "      <td>WALLMART</td>\n",
       "      <td>capacity</td>\n",
       "    </tr>\n",
       "  </tbody>\n",
       "</table>\n",
       "</div>"
      ],
      "text/plain": [
       "  PRODUCT   BRAND   NO FRILLZ  WALLMART   CAPACITY\n",
       "0  PRICE   brand   NO FRILLS   WALLMART  capacity "
      ]
     },
     "execution_count": 156,
     "metadata": {},
     "output_type": "execute_result"
    }
   ],
   "source": [
    "## locating first row of the dataframe\n",
    "df.iloc[[0]]"
   ]
  },
  {
   "cell_type": "code",
   "execution_count": 157,
   "id": "1226b161",
   "metadata": {},
   "outputs": [],
   "source": [
    "### deleting the first row of the dataframe \n",
    "df.drop([0],axis=0,inplace=True)"
   ]
  },
  {
   "cell_type": "code",
   "execution_count": 158,
   "id": "56f9771c",
   "metadata": {},
   "outputs": [
    {
     "data": {
      "text/html": [
       "<div>\n",
       "<style scoped>\n",
       "    .dataframe tbody tr th:only-of-type {\n",
       "        vertical-align: middle;\n",
       "    }\n",
       "\n",
       "    .dataframe tbody tr th {\n",
       "        vertical-align: top;\n",
       "    }\n",
       "\n",
       "    .dataframe thead th {\n",
       "        text-align: right;\n",
       "    }\n",
       "</style>\n",
       "<table border=\"1\" class=\"dataframe\">\n",
       "  <thead>\n",
       "    <tr style=\"text-align: right;\">\n",
       "      <th></th>\n",
       "      <th>PRODUCT</th>\n",
       "      <th>BRAND</th>\n",
       "      <th>NO FRILLZ</th>\n",
       "      <th>WALLMART</th>\n",
       "      <th>CAPACITY</th>\n",
       "    </tr>\n",
       "  </thead>\n",
       "  <tbody>\n",
       "    <tr>\n",
       "      <th>1</th>\n",
       "      <td>bread</td>\n",
       "      <td>country harvest</td>\n",
       "      <td>2.77</td>\n",
       "      <td>3.47</td>\n",
       "      <td>450g</td>\n",
       "    </tr>\n",
       "    <tr>\n",
       "      <th>2</th>\n",
       "      <td>milk</td>\n",
       "      <td>skimmd milk 1 %</td>\n",
       "      <td>5.89</td>\n",
       "      <td>5.89</td>\n",
       "      <td>4 litres</td>\n",
       "    </tr>\n",
       "    <tr>\n",
       "      <th>3</th>\n",
       "      <td>eggs</td>\n",
       "      <td>no brand &amp; grey white</td>\n",
       "      <td>9.29</td>\n",
       "      <td>8.48</td>\n",
       "      <td>30 egss</td>\n",
       "    </tr>\n",
       "    <tr>\n",
       "      <th>4</th>\n",
       "      <td>toilet paper</td>\n",
       "      <td>no name  &amp; cashmere soft</td>\n",
       "      <td>11.99</td>\n",
       "      <td>10.97</td>\n",
       "      <td>24 rolls</td>\n",
       "    </tr>\n",
       "    <tr>\n",
       "      <th>5</th>\n",
       "      <td>Paratha</td>\n",
       "      <td>casa mendosa tortillas</td>\n",
       "      <td>3.99</td>\n",
       "      <td>3.67</td>\n",
       "      <td>640g</td>\n",
       "    </tr>\n",
       "    <tr>\n",
       "      <th>6</th>\n",
       "      <td>intant oats</td>\n",
       "      <td>quakers</td>\n",
       "      <td>5.26</td>\n",
       "      <td>3.97</td>\n",
       "      <td>1kg</td>\n",
       "    </tr>\n",
       "    <tr>\n",
       "      <th>7</th>\n",
       "      <td>blueberries</td>\n",
       "      <td>NaN</td>\n",
       "      <td>3.22</td>\n",
       "      <td>3.97</td>\n",
       "      <td>170g</td>\n",
       "    </tr>\n",
       "    <tr>\n",
       "      <th>8</th>\n",
       "      <td>blackberries</td>\n",
       "      <td>NaN</td>\n",
       "      <td>3.22</td>\n",
       "      <td>3.97</td>\n",
       "      <td>170g</td>\n",
       "    </tr>\n",
       "    <tr>\n",
       "      <th>9</th>\n",
       "      <td>strawberries</td>\n",
       "      <td>NaN</td>\n",
       "      <td>NaN</td>\n",
       "      <td>NaN</td>\n",
       "      <td>NaN</td>\n",
       "    </tr>\n",
       "    <tr>\n",
       "      <th>10</th>\n",
       "      <td>raspberries</td>\n",
       "      <td>NaN</td>\n",
       "      <td>NaN</td>\n",
       "      <td>NaN</td>\n",
       "      <td>NaN</td>\n",
       "    </tr>\n",
       "    <tr>\n",
       "      <th>11</th>\n",
       "      <td>bananas</td>\n",
       "      <td>NaN</td>\n",
       "      <td>1.5P</td>\n",
       "      <td>0.4P</td>\n",
       "      <td>brunch at frills and one at mart</td>\n",
       "    </tr>\n",
       "    <tr>\n",
       "      <th>12</th>\n",
       "      <td>lemon</td>\n",
       "      <td>bag of lemons</td>\n",
       "      <td>3.88</td>\n",
       "      <td>4.88</td>\n",
       "      <td>2 pounds</td>\n",
       "    </tr>\n",
       "    <tr>\n",
       "      <th>13</th>\n",
       "      <td>fresh spinach</td>\n",
       "      <td>baby spinach</td>\n",
       "      <td>3.99</td>\n",
       "      <td>3.97</td>\n",
       "      <td>142g</td>\n",
       "    </tr>\n",
       "    <tr>\n",
       "      <th>14</th>\n",
       "      <td>carrots</td>\n",
       "      <td>mini carrots</td>\n",
       "      <td>1.99</td>\n",
       "      <td>2.87</td>\n",
       "      <td>340g</td>\n",
       "    </tr>\n",
       "    <tr>\n",
       "      <th>15</th>\n",
       "      <td>grapes</td>\n",
       "      <td>NaN</td>\n",
       "      <td>NaN</td>\n",
       "      <td>NaN</td>\n",
       "      <td>NaN</td>\n",
       "    </tr>\n",
       "    <tr>\n",
       "      <th>16</th>\n",
       "      <td>Flour</td>\n",
       "      <td>great value &amp; no name</td>\n",
       "      <td>4.29</td>\n",
       "      <td>3.97</td>\n",
       "      <td>2.5kgs</td>\n",
       "    </tr>\n",
       "    <tr>\n",
       "      <th>17</th>\n",
       "      <td>pancake mix</td>\n",
       "      <td>NaN</td>\n",
       "      <td>3.79</td>\n",
       "      <td>2.48</td>\n",
       "      <td>NaN</td>\n",
       "    </tr>\n",
       "    <tr>\n",
       "      <th>18</th>\n",
       "      <td>SUM</td>\n",
       "      <td>NaN</td>\n",
       "      <td>63.57</td>\n",
       "      <td>62.56</td>\n",
       "      <td>NaN</td>\n",
       "    </tr>\n",
       "    <tr>\n",
       "      <th>19</th>\n",
       "      <td>AVERAGE</td>\n",
       "      <td>NaN</td>\n",
       "      <td>4.89</td>\n",
       "      <td>4.812308</td>\n",
       "      <td>NaN</td>\n",
       "    </tr>\n",
       "    <tr>\n",
       "      <th>20</th>\n",
       "      <td>MAX</td>\n",
       "      <td>NaN</td>\n",
       "      <td>11.99</td>\n",
       "      <td>10.97</td>\n",
       "      <td>NaN</td>\n",
       "    </tr>\n",
       "  </tbody>\n",
       "</table>\n",
       "</div>"
      ],
      "text/plain": [
       "          PRODUCT                      BRAND NO FRILLZ  WALLMART  \\\n",
       "1           bread           country harvest       2.77      3.47   \n",
       "2            milk            skimmd milk 1 %      5.89      5.89   \n",
       "3            eggs     no brand & grey white       9.29      8.48   \n",
       "4   toilet paper   no name  & cashmere soft      11.99     10.97   \n",
       "5         Paratha     casa mendosa tortillas      3.99      3.67   \n",
       "6    intant oats                     quakers      5.26      3.97   \n",
       "7     blueberries                        NaN      3.22      3.97   \n",
       "8    blackberries                        NaN      3.22      3.97   \n",
       "9    strawberries                        NaN       NaN       NaN   \n",
       "10    raspberries                        NaN       NaN       NaN   \n",
       "11        bananas                        NaN      1.5P      0.4P   \n",
       "12          lemon             bag of lemons       3.88      4.88   \n",
       "13  fresh spinach              baby spinach       3.99      3.97   \n",
       "14        carrots              mini carrots       1.99      2.87   \n",
       "15         grapes                        NaN       NaN       NaN   \n",
       "16          Flour      great value & no name      4.29      3.97   \n",
       "17   pancake mix                         NaN      3.79      2.48   \n",
       "18           SUM                         NaN     63.57     62.56   \n",
       "19       AVERAGE                         NaN      4.89  4.812308   \n",
       "20           MAX                         NaN     11.99     10.97   \n",
       "\n",
       "                             CAPACITY  \n",
       "1                                450g  \n",
       "2                            4 litres  \n",
       "3                             30 egss  \n",
       "4                            24 rolls  \n",
       "5                                640g  \n",
       "6                                 1kg  \n",
       "7                                170g  \n",
       "8                                170g  \n",
       "9                                 NaN  \n",
       "10                                NaN  \n",
       "11  brunch at frills and one at mart   \n",
       "12                           2 pounds  \n",
       "13                               142g  \n",
       "14                               340g  \n",
       "15                                NaN  \n",
       "16                             2.5kgs  \n",
       "17                                NaN  \n",
       "18                                NaN  \n",
       "19                                NaN  \n",
       "20                                NaN  "
      ]
     },
     "execution_count": 158,
     "metadata": {},
     "output_type": "execute_result"
    }
   ],
   "source": [
    "## checking if the row still exists \n",
    "df.head(20)"
   ]
  },
  {
   "cell_type": "code",
   "execution_count": 159,
   "id": "aa7d77a7",
   "metadata": {},
   "outputs": [
    {
     "data": {
      "text/plain": [
       "1     False\n",
       "2     False\n",
       "3     False\n",
       "4     False\n",
       "5     False\n",
       "6     False\n",
       "7     False\n",
       "8     False\n",
       "9      True\n",
       "10     True\n",
       "11    False\n",
       "12    False\n",
       "13    False\n",
       "14    False\n",
       "15     True\n",
       "16    False\n",
       "17    False\n",
       "18    False\n",
       "19    False\n",
       "20    False\n",
       "21    False\n",
       "Name: NO FRILLZ, dtype: bool"
      ]
     },
     "execution_count": 159,
     "metadata": {},
     "output_type": "execute_result"
    }
   ],
   "source": [
    "### checking for  nan values in no frills column \n",
    "df['NO FRILLZ'].isnull()"
   ]
  },
  {
   "cell_type": "code",
   "execution_count": 160,
   "id": "9bf8472c",
   "metadata": {},
   "outputs": [],
   "source": [
    "### dropping empty rows \n",
    "df.dropna(axis=0,inplace=True)"
   ]
  },
  {
   "cell_type": "code",
   "execution_count": 161,
   "id": "c22df542",
   "metadata": {},
   "outputs": [
    {
     "data": {
      "text/html": [
       "<div>\n",
       "<style scoped>\n",
       "    .dataframe tbody tr th:only-of-type {\n",
       "        vertical-align: middle;\n",
       "    }\n",
       "\n",
       "    .dataframe tbody tr th {\n",
       "        vertical-align: top;\n",
       "    }\n",
       "\n",
       "    .dataframe thead th {\n",
       "        text-align: right;\n",
       "    }\n",
       "</style>\n",
       "<table border=\"1\" class=\"dataframe\">\n",
       "  <thead>\n",
       "    <tr style=\"text-align: right;\">\n",
       "      <th></th>\n",
       "      <th>PRODUCT</th>\n",
       "      <th>BRAND</th>\n",
       "      <th>NO FRILLZ</th>\n",
       "      <th>WALLMART</th>\n",
       "      <th>CAPACITY</th>\n",
       "    </tr>\n",
       "  </thead>\n",
       "  <tbody>\n",
       "    <tr>\n",
       "      <th>1</th>\n",
       "      <td>bread</td>\n",
       "      <td>country harvest</td>\n",
       "      <td>2.77</td>\n",
       "      <td>3.47</td>\n",
       "      <td>450g</td>\n",
       "    </tr>\n",
       "    <tr>\n",
       "      <th>2</th>\n",
       "      <td>milk</td>\n",
       "      <td>skimmd milk 1 %</td>\n",
       "      <td>5.89</td>\n",
       "      <td>5.89</td>\n",
       "      <td>4 litres</td>\n",
       "    </tr>\n",
       "    <tr>\n",
       "      <th>3</th>\n",
       "      <td>eggs</td>\n",
       "      <td>no brand &amp; grey white</td>\n",
       "      <td>9.29</td>\n",
       "      <td>8.48</td>\n",
       "      <td>30 egss</td>\n",
       "    </tr>\n",
       "    <tr>\n",
       "      <th>4</th>\n",
       "      <td>toilet paper</td>\n",
       "      <td>no name  &amp; cashmere soft</td>\n",
       "      <td>11.99</td>\n",
       "      <td>10.97</td>\n",
       "      <td>24 rolls</td>\n",
       "    </tr>\n",
       "    <tr>\n",
       "      <th>5</th>\n",
       "      <td>Paratha</td>\n",
       "      <td>casa mendosa tortillas</td>\n",
       "      <td>3.99</td>\n",
       "      <td>3.67</td>\n",
       "      <td>640g</td>\n",
       "    </tr>\n",
       "    <tr>\n",
       "      <th>6</th>\n",
       "      <td>intant oats</td>\n",
       "      <td>quakers</td>\n",
       "      <td>5.26</td>\n",
       "      <td>3.97</td>\n",
       "      <td>1kg</td>\n",
       "    </tr>\n",
       "    <tr>\n",
       "      <th>12</th>\n",
       "      <td>lemon</td>\n",
       "      <td>bag of lemons</td>\n",
       "      <td>3.88</td>\n",
       "      <td>4.88</td>\n",
       "      <td>2 pounds</td>\n",
       "    </tr>\n",
       "    <tr>\n",
       "      <th>13</th>\n",
       "      <td>fresh spinach</td>\n",
       "      <td>baby spinach</td>\n",
       "      <td>3.99</td>\n",
       "      <td>3.97</td>\n",
       "      <td>142g</td>\n",
       "    </tr>\n",
       "    <tr>\n",
       "      <th>14</th>\n",
       "      <td>carrots</td>\n",
       "      <td>mini carrots</td>\n",
       "      <td>1.99</td>\n",
       "      <td>2.87</td>\n",
       "      <td>340g</td>\n",
       "    </tr>\n",
       "    <tr>\n",
       "      <th>16</th>\n",
       "      <td>Flour</td>\n",
       "      <td>great value &amp; no name</td>\n",
       "      <td>4.29</td>\n",
       "      <td>3.97</td>\n",
       "      <td>2.5kgs</td>\n",
       "    </tr>\n",
       "  </tbody>\n",
       "</table>\n",
       "</div>"
      ],
      "text/plain": [
       "          PRODUCT                      BRAND NO FRILLZ WALLMART  CAPACITY\n",
       "1           bread           country harvest       2.77     3.47      450g\n",
       "2            milk            skimmd milk 1 %      5.89     5.89  4 litres\n",
       "3            eggs     no brand & grey white       9.29     8.48   30 egss\n",
       "4   toilet paper   no name  & cashmere soft      11.99    10.97  24 rolls\n",
       "5         Paratha     casa mendosa tortillas      3.99     3.67      640g\n",
       "6    intant oats                     quakers      5.26     3.97       1kg\n",
       "12          lemon             bag of lemons       3.88     4.88  2 pounds\n",
       "13  fresh spinach              baby spinach       3.99     3.97      142g\n",
       "14        carrots              mini carrots       1.99     2.87      340g\n",
       "16          Flour      great value & no name      4.29     3.97    2.5kgs"
      ]
     },
     "execution_count": 161,
     "metadata": {},
     "output_type": "execute_result"
    }
   ],
   "source": [
    "###checking if rows are dropped\n",
    "df.head(20)"
   ]
  },
  {
   "cell_type": "code",
   "execution_count": 162,
   "id": "07567eca",
   "metadata": {},
   "outputs": [
    {
     "data": {
      "text/plain": [
       "1      3\n",
       "2      5\n",
       "3      8\n",
       "4     10\n",
       "5      3\n",
       "6      3\n",
       "12     4\n",
       "13     3\n",
       "14     2\n",
       "16     3\n",
       "Name: WALLMART, dtype: int32"
      ]
     },
     "execution_count": 162,
     "metadata": {},
     "output_type": "execute_result"
    }
   ],
   "source": [
    "## converting columns data type\n",
    "df['NO FRILLZ'].astype(int)\n",
    "df['WALLMART'].astype(int)"
   ]
  },
  {
   "cell_type": "code",
   "execution_count": 163,
   "id": "b6419814",
   "metadata": {},
   "outputs": [
    {
     "data": {
      "text/plain": [
       "1     -0.7\n",
       "2      0.0\n",
       "3     0.81\n",
       "4     1.02\n",
       "5     0.32\n",
       "6     1.29\n",
       "12    -1.0\n",
       "13    0.02\n",
       "14   -0.88\n",
       "16    0.32\n",
       "Name: PRICE_DIFFERENCE, dtype: object"
      ]
     },
     "execution_count": 163,
     "metadata": {},
     "output_type": "execute_result"
    }
   ],
   "source": [
    "# CHECKING FOR STORE PRODUCT PRICE DIFFERENCES \n",
    "df[\"PRICE_DIFFERENCE\"]=df[\"NO FRILLZ\"]-df[\"WALLMART\"]\n",
    "df[\"PRICE_DIFFERENCE\"]\n",
    "\n"
   ]
  },
  {
   "cell_type": "code",
   "execution_count": 164,
   "id": "b436eb73",
   "metadata": {},
   "outputs": [
    {
     "data": {
      "text/html": [
       "<div>\n",
       "<style scoped>\n",
       "    .dataframe tbody tr th:only-of-type {\n",
       "        vertical-align: middle;\n",
       "    }\n",
       "\n",
       "    .dataframe tbody tr th {\n",
       "        vertical-align: top;\n",
       "    }\n",
       "\n",
       "    .dataframe thead th {\n",
       "        text-align: right;\n",
       "    }\n",
       "</style>\n",
       "<table border=\"1\" class=\"dataframe\">\n",
       "  <thead>\n",
       "    <tr style=\"text-align: right;\">\n",
       "      <th></th>\n",
       "      <th>PRODUCT</th>\n",
       "      <th>BRAND</th>\n",
       "      <th>NO FRILLZ</th>\n",
       "      <th>WALLMART</th>\n",
       "      <th>CAPACITY</th>\n",
       "      <th>PRICE_DIFFERENCE</th>\n",
       "    </tr>\n",
       "  </thead>\n",
       "  <tbody>\n",
       "    <tr>\n",
       "      <th>1</th>\n",
       "      <td>bread</td>\n",
       "      <td>country harvest</td>\n",
       "      <td>2.77</td>\n",
       "      <td>3.47</td>\n",
       "      <td>450g</td>\n",
       "      <td>-0.7</td>\n",
       "    </tr>\n",
       "    <tr>\n",
       "      <th>2</th>\n",
       "      <td>milk</td>\n",
       "      <td>skimmd milk 1 %</td>\n",
       "      <td>5.89</td>\n",
       "      <td>5.89</td>\n",
       "      <td>4 litres</td>\n",
       "      <td>0.0</td>\n",
       "    </tr>\n",
       "    <tr>\n",
       "      <th>3</th>\n",
       "      <td>eggs</td>\n",
       "      <td>no brand &amp; grey white</td>\n",
       "      <td>9.29</td>\n",
       "      <td>8.48</td>\n",
       "      <td>30 egss</td>\n",
       "      <td>0.81</td>\n",
       "    </tr>\n",
       "    <tr>\n",
       "      <th>4</th>\n",
       "      <td>toilet paper</td>\n",
       "      <td>no name  &amp; cashmere soft</td>\n",
       "      <td>11.99</td>\n",
       "      <td>10.97</td>\n",
       "      <td>24 rolls</td>\n",
       "      <td>1.02</td>\n",
       "    </tr>\n",
       "    <tr>\n",
       "      <th>5</th>\n",
       "      <td>Paratha</td>\n",
       "      <td>casa mendosa tortillas</td>\n",
       "      <td>3.99</td>\n",
       "      <td>3.67</td>\n",
       "      <td>640g</td>\n",
       "      <td>0.32</td>\n",
       "    </tr>\n",
       "    <tr>\n",
       "      <th>6</th>\n",
       "      <td>intant oats</td>\n",
       "      <td>quakers</td>\n",
       "      <td>5.26</td>\n",
       "      <td>3.97</td>\n",
       "      <td>1kg</td>\n",
       "      <td>1.29</td>\n",
       "    </tr>\n",
       "    <tr>\n",
       "      <th>12</th>\n",
       "      <td>lemon</td>\n",
       "      <td>bag of lemons</td>\n",
       "      <td>3.88</td>\n",
       "      <td>4.88</td>\n",
       "      <td>2 pounds</td>\n",
       "      <td>-1.0</td>\n",
       "    </tr>\n",
       "    <tr>\n",
       "      <th>13</th>\n",
       "      <td>fresh spinach</td>\n",
       "      <td>baby spinach</td>\n",
       "      <td>3.99</td>\n",
       "      <td>3.97</td>\n",
       "      <td>142g</td>\n",
       "      <td>0.02</td>\n",
       "    </tr>\n",
       "    <tr>\n",
       "      <th>14</th>\n",
       "      <td>carrots</td>\n",
       "      <td>mini carrots</td>\n",
       "      <td>1.99</td>\n",
       "      <td>2.87</td>\n",
       "      <td>340g</td>\n",
       "      <td>-0.88</td>\n",
       "    </tr>\n",
       "    <tr>\n",
       "      <th>16</th>\n",
       "      <td>Flour</td>\n",
       "      <td>great value &amp; no name</td>\n",
       "      <td>4.29</td>\n",
       "      <td>3.97</td>\n",
       "      <td>2.5kgs</td>\n",
       "      <td>0.32</td>\n",
       "    </tr>\n",
       "  </tbody>\n",
       "</table>\n",
       "</div>"
      ],
      "text/plain": [
       "          PRODUCT                      BRAND NO FRILLZ WALLMART  CAPACITY  \\\n",
       "1           bread           country harvest       2.77     3.47      450g   \n",
       "2            milk            skimmd milk 1 %      5.89     5.89  4 litres   \n",
       "3            eggs     no brand & grey white       9.29     8.48   30 egss   \n",
       "4   toilet paper   no name  & cashmere soft      11.99    10.97  24 rolls   \n",
       "5         Paratha     casa mendosa tortillas      3.99     3.67      640g   \n",
       "6    intant oats                     quakers      5.26     3.97       1kg   \n",
       "12          lemon             bag of lemons       3.88     4.88  2 pounds   \n",
       "13  fresh spinach              baby spinach       3.99     3.97      142g   \n",
       "14        carrots              mini carrots       1.99     2.87      340g   \n",
       "16          Flour      great value & no name      4.29     3.97    2.5kgs   \n",
       "\n",
       "   PRICE_DIFFERENCE  \n",
       "1              -0.7  \n",
       "2               0.0  \n",
       "3              0.81  \n",
       "4              1.02  \n",
       "5              0.32  \n",
       "6              1.29  \n",
       "12             -1.0  \n",
       "13             0.02  \n",
       "14            -0.88  \n",
       "16             0.32  "
      ]
     },
     "execution_count": 164,
     "metadata": {},
     "output_type": "execute_result"
    }
   ],
   "source": [
    "df.head(17)"
   ]
  },
  {
   "cell_type": "code",
   "execution_count": 165,
   "id": "30d46e03",
   "metadata": {},
   "outputs": [
    {
     "data": {
      "image/png": "[encoded data removed]",
      "text/plain": [
       "<Figure size 1440x720 with 4 Axes>"
      ]
     },
     "metadata": {
      "needs_background": "light"
     },
     "output_type": "display_data"
    }
   ],
   "source": [
    "## VISUALIZING STORE PRICE COMPARISONS USING A LINE AND BAR GRAPH\n",
    "### we use the matplotlib library to draw line and bar\"(h)\" graphs \n",
    "### where we begin by identifying the variables x and y from our dataset\n",
    "### then we can labe x and y as well as title \n",
    "## then we chose how many rows or columns we need using the subplot method \n",
    "### we can choose to use grids if we want using the grid method\n",
    "### we then choose what graph using either plot,bar or barh method including the colour we need \n",
    "\n",
    "plt.figure(figsize=(20,10))\n",
    "y=df[\"NO FRILLZ\"]\n",
    "x=df[\"PRODUCT\"]\n",
    "plt.xlabel(\"PRODUCTS\")\n",
    "plt.ylabel(\"WALLMART PRODUCTS\")\n",
    "plt.title(\"A GRAPH SHOWING WALLMART PRICES\")\n",
    "plt.subplot(2,2,1)\n",
    "plt.grid()\n",
    "plt.barh(x,y,color=\"green\")\n",
    "y=df[\"NO FRILLZ\"]\n",
    "x=df[\"PRODUCT\"]\n",
    "plt.xlabel(\"PRODUCTS\")\n",
    "plt.ylabel(\"\")\n",
    "plt.title(\"\")\n",
    "plt.subplot(2,2,2)\n",
    "plt.plot(x,y,color=\"red\")\n",
    "x=df[\"WALLMART\"]\n",
    "y=df[\"PRODUCT\"]\n",
    "plt.xlabel(\"\")\n",
    "plt.ylabel(\"\")\n",
    "plt.title(\"A GRAPH SHOWING WALLMART PRICES\")\n",
    "plt.subplot(2,2,3)\n",
    "plt.plot(x,y,color=\"maroon\")\n",
    "y=df[\"WALLMART\"]\n",
    "x=df[\"PRODUCT\"]\n",
    "plt.xlabel(\"\")\n",
    "plt.ylabel(\"\")\n",
    "plt.title(\"A GRAPH SHOWING WALLMART PRICES\")\n",
    "plt.subplot(2,2,4)\n",
    "plt.bar(x,y,color=\"orange\")\n",
    "plt.show()\n"
   ]
  },
  {
   "cell_type": "code",
   "execution_count": 166,
   "id": "24c6fabc",
   "metadata": {},
   "outputs": [
    {
     "data": {
      "image/png": "[encoded data removed]",
      "text/plain": [
       "<Figure size 576x360 with 1 Axes>"
      ]
     },
     "metadata": {
      "needs_background": "light"
     },
     "output_type": "display_data"
    }
   ],
   "source": [
    "# here is another way to plot a dataframe where we use the plot method directly on the df\n",
    "df[\"WALLMART\"].plot(kind='bar', figsize=(8, 5),color=\"red\")\n",
    "plt.xlabel(\"PRODUCT\")\n",
    "plt.ylabel(\"PRICE\")\n",
    "plt.title(\"A BAR GRAPH SHOWING WALLMARTS PRICES\")\n",
    "plt.show()"
   ]
  },
  {
   "cell_type": "code",
   "execution_count": 167,
   "id": "13bc1021",
   "metadata": {},
   "outputs": [
    {
     "name": "stdout",
     "output_type": "stream",
     "text": [
      "1.2899999999999996\n",
      "-1.0\n"
     ]
    }
   ],
   "source": [
    "# we use the max and min methods to findout the min and max of the price difference\n",
    "ma=df[\"PRICE_DIFFERENCE\"].max()\n",
    "mi=df[\"PRICE_DIFFERENCE\"].min()\n",
    "print(ma)\n",
    "print(mi)"
   ]
  },
  {
   "cell_type": "code",
   "execution_count": 200,
   "id": "6c344fd8",
   "metadata": {},
   "outputs": [
    {
     "data": {
      "text/html": [
       "<div>\n",
       "<style scoped>\n",
       "    .dataframe tbody tr th:only-of-type {\n",
       "        vertical-align: middle;\n",
       "    }\n",
       "\n",
       "    .dataframe tbody tr th {\n",
       "        vertical-align: top;\n",
       "    }\n",
       "\n",
       "    .dataframe thead th {\n",
       "        text-align: right;\n",
       "    }\n",
       "</style>\n",
       "<table border=\"1\" class=\"dataframe\">\n",
       "  <thead>\n",
       "    <tr style=\"text-align: right;\">\n",
       "      <th></th>\n",
       "      <th>WALLMART</th>\n",
       "      <th>NO FRILLZ</th>\n",
       "      <th>PRICE_DIFFERENCE</th>\n",
       "    </tr>\n",
       "  </thead>\n",
       "  <tbody>\n",
       "    <tr>\n",
       "      <th>1</th>\n",
       "      <td>3.47</td>\n",
       "      <td>2.77</td>\n",
       "      <td>-0.7</td>\n",
       "    </tr>\n",
       "    <tr>\n",
       "      <th>2</th>\n",
       "      <td>5.89</td>\n",
       "      <td>5.89</td>\n",
       "      <td>0.0</td>\n",
       "    </tr>\n",
       "    <tr>\n",
       "      <th>3</th>\n",
       "      <td>8.48</td>\n",
       "      <td>9.29</td>\n",
       "      <td>0.81</td>\n",
       "    </tr>\n",
       "    <tr>\n",
       "      <th>4</th>\n",
       "      <td>10.97</td>\n",
       "      <td>11.99</td>\n",
       "      <td>1.02</td>\n",
       "    </tr>\n",
       "    <tr>\n",
       "      <th>5</th>\n",
       "      <td>3.67</td>\n",
       "      <td>3.99</td>\n",
       "      <td>0.32</td>\n",
       "    </tr>\n",
       "    <tr>\n",
       "      <th>6</th>\n",
       "      <td>3.97</td>\n",
       "      <td>5.26</td>\n",
       "      <td>1.29</td>\n",
       "    </tr>\n",
       "    <tr>\n",
       "      <th>12</th>\n",
       "      <td>4.88</td>\n",
       "      <td>3.88</td>\n",
       "      <td>-1.0</td>\n",
       "    </tr>\n",
       "    <tr>\n",
       "      <th>13</th>\n",
       "      <td>3.97</td>\n",
       "      <td>3.99</td>\n",
       "      <td>0.02</td>\n",
       "    </tr>\n",
       "    <tr>\n",
       "      <th>14</th>\n",
       "      <td>2.87</td>\n",
       "      <td>1.99</td>\n",
       "      <td>-0.88</td>\n",
       "    </tr>\n",
       "  </tbody>\n",
       "</table>\n",
       "</div>"
      ],
      "text/plain": [
       "   WALLMART NO FRILLZ PRICE_DIFFERENCE\n",
       "1      3.47      2.77             -0.7\n",
       "2      5.89      5.89              0.0\n",
       "3      8.48      9.29             0.81\n",
       "4     10.97     11.99             1.02\n",
       "5      3.67      3.99             0.32\n",
       "6      3.97      5.26             1.29\n",
       "12     4.88      3.88             -1.0\n",
       "13     3.97      3.99             0.02\n",
       "14     2.87      1.99            -0.88"
      ]
     },
     "execution_count": 200,
     "metadata": {},
     "output_type": "execute_result"
    }
   ],
   "source": [
    "# HOW TO LOCATE COLUMNS FROM A DATAFRAME \n",
    "df.loc[1:15,(\"WALLMART\",\"NO FRILLZ\",\"PRICE_DIFFERENCE\")]\n"
   ]
  },
  {
   "cell_type": "code",
   "execution_count": 191,
   "id": "1c1d554a",
   "metadata": {},
   "outputs": [
    {
     "data": {
      "text/html": [
       "<div>\n",
       "<style scoped>\n",
       "    .dataframe tbody tr th:only-of-type {\n",
       "        vertical-align: middle;\n",
       "    }\n",
       "\n",
       "    .dataframe tbody tr th {\n",
       "        vertical-align: top;\n",
       "    }\n",
       "\n",
       "    .dataframe thead th {\n",
       "        text-align: right;\n",
       "    }\n",
       "</style>\n",
       "<table border=\"1\" class=\"dataframe\">\n",
       "  <thead>\n",
       "    <tr style=\"text-align: right;\">\n",
       "      <th></th>\n",
       "      <th>WALLMART</th>\n",
       "      <th>NO FRILLZ</th>\n",
       "    </tr>\n",
       "  </thead>\n",
       "  <tbody>\n",
       "    <tr>\n",
       "      <th>1</th>\n",
       "      <td>3.47</td>\n",
       "      <td>2.77</td>\n",
       "    </tr>\n",
       "    <tr>\n",
       "      <th>2</th>\n",
       "      <td>5.89</td>\n",
       "      <td>5.89</td>\n",
       "    </tr>\n",
       "    <tr>\n",
       "      <th>3</th>\n",
       "      <td>8.48</td>\n",
       "      <td>9.29</td>\n",
       "    </tr>\n",
       "    <tr>\n",
       "      <th>4</th>\n",
       "      <td>10.97</td>\n",
       "      <td>11.99</td>\n",
       "    </tr>\n",
       "    <tr>\n",
       "      <th>5</th>\n",
       "      <td>3.67</td>\n",
       "      <td>3.99</td>\n",
       "    </tr>\n",
       "    <tr>\n",
       "      <th>6</th>\n",
       "      <td>3.97</td>\n",
       "      <td>5.26</td>\n",
       "    </tr>\n",
       "    <tr>\n",
       "      <th>12</th>\n",
       "      <td>4.88</td>\n",
       "      <td>3.88</td>\n",
       "    </tr>\n",
       "    <tr>\n",
       "      <th>13</th>\n",
       "      <td>3.97</td>\n",
       "      <td>3.99</td>\n",
       "    </tr>\n",
       "    <tr>\n",
       "      <th>14</th>\n",
       "      <td>2.87</td>\n",
       "      <td>1.99</td>\n",
       "    </tr>\n",
       "    <tr>\n",
       "      <th>16</th>\n",
       "      <td>3.97</td>\n",
       "      <td>4.29</td>\n",
       "    </tr>\n",
       "  </tbody>\n",
       "</table>\n",
       "</div>"
      ],
      "text/plain": [
       "   WALLMART NO FRILLZ\n",
       "1      3.47      2.77\n",
       "2      5.89      5.89\n",
       "3      8.48      9.29\n",
       "4     10.97     11.99\n",
       "5      3.67      3.99\n",
       "6      3.97      5.26\n",
       "12     4.88      3.88\n",
       "13     3.97      3.99\n",
       "14     2.87      1.99\n",
       "16     3.97      4.29"
      ]
     },
     "execution_count": 191,
     "metadata": {},
     "output_type": "execute_result"
    }
   ],
   "source": [
    "#OR\n",
    "df.loc[:,(\"WALLMART\",\"NO FRILLZ\")]"
   ]
  },
  {
   "cell_type": "code",
   "execution_count": 201,
   "id": "c0cb0bae",
   "metadata": {},
   "outputs": [
    {
     "data": {
      "text/plain": [
       "WALLMART            5.352222\n",
       "NO FRILLZ           5.450000\n",
       "PRICE_DIFFERENCE    0.097778\n",
       "dtype: float64"
      ]
     },
     "execution_count": 201,
     "metadata": {},
     "output_type": "execute_result"
    }
   ],
   "source": [
    "# after locating the useful columns we can find he mean of each column \n",
    "df.loc[1:15,(\"WALLMART\",\"NO FRILLZ\",\"PRICE_DIFFERENCE\")].mean()"
   ]
  },
  {
   "cell_type": "code",
   "execution_count": 223,
   "id": "16badacc",
   "metadata": {},
   "outputs": [
    {
     "data": {
      "text/plain": [
       "WALLMART            3.97\n",
       "NO FRILLZ           3.99\n",
       "PRICE_DIFFERENCE    0.02\n",
       "dtype: float64"
      ]
     },
     "execution_count": 223,
     "metadata": {},
     "output_type": "execute_result"
    }
   ],
   "source": [
    "df.loc[1:15,(\"WALLMART\",\"NO FRILLZ\",\"PRICE_DIFFERENCE\")].median()"
   ]
  },
  {
   "cell_type": "code",
   "execution_count": 231,
   "id": "d86f6ada",
   "metadata": {},
   "outputs": [
    {
     "data": {
      "text/html": [
       "<div>\n",
       "<style scoped>\n",
       "    .dataframe tbody tr th:only-of-type {\n",
       "        vertical-align: middle;\n",
       "    }\n",
       "\n",
       "    .dataframe tbody tr th {\n",
       "        vertical-align: top;\n",
       "    }\n",
       "\n",
       "    .dataframe thead th {\n",
       "        text-align: right;\n",
       "    }\n",
       "</style>\n",
       "<table border=\"1\" class=\"dataframe\">\n",
       "  <thead>\n",
       "    <tr style=\"text-align: right;\">\n",
       "      <th></th>\n",
       "      <th>WALLMART</th>\n",
       "      <th>NO FRILLZ</th>\n",
       "    </tr>\n",
       "  </thead>\n",
       "  <tbody>\n",
       "    <tr>\n",
       "      <th>count</th>\n",
       "      <td>9.00</td>\n",
       "      <td>9.00</td>\n",
       "    </tr>\n",
       "    <tr>\n",
       "      <th>unique</th>\n",
       "      <td>8.00</td>\n",
       "      <td>8.00</td>\n",
       "    </tr>\n",
       "    <tr>\n",
       "      <th>top</th>\n",
       "      <td>3.97</td>\n",
       "      <td>3.99</td>\n",
       "    </tr>\n",
       "    <tr>\n",
       "      <th>freq</th>\n",
       "      <td>2.00</td>\n",
       "      <td>2.00</td>\n",
       "    </tr>\n",
       "  </tbody>\n",
       "</table>\n",
       "</div>"
      ],
      "text/plain": [
       "        WALLMART  NO FRILLZ\n",
       "count       9.00       9.00\n",
       "unique      8.00       8.00\n",
       "top         3.97       3.99\n",
       "freq        2.00       2.00"
      ]
     },
     "execution_count": 231,
     "metadata": {},
     "output_type": "execute_result"
    }
   ],
   "source": [
    "# the describe method shows us the top max min mean freq and many other aspects of a column\n",
    "df.loc[1:15,(\"WALLMART\",\"NO FRILLZ\")].describe()"
   ]
  },
  {
   "cell_type": "code",
   "execution_count": 230,
   "id": "5bfd3a31",
   "metadata": {},
   "outputs": [
    {
     "data": {
      "image/png": "[encoded data removed]",
      "text/plain": [
       "<Figure size 432x288 with 1 Axes>"
      ]
     },
     "metadata": {
      "needs_background": "light"
     },
     "output_type": "display_data"
    }
   ],
   "source": [
    "#we use the describe method along with the column location method to visualise a box plot \n",
    "z=df.loc[1:15,(\"WALLMART\",\"NO FRILLZ\")].describe()\n",
    "z.plot(kind=\"box\")\n",
    "plt.show()"
   ]
  },
  {
   "cell_type": "code",
   "execution_count": 242,
   "id": "532dedc6",
   "metadata": {},
   "outputs": [
    {
     "data": {
      "image/png": "[encoded data removed]",
      "text/plain": [
       "<Figure size 432x288 with 1 Axes>"
      ]
     },
     "metadata": {
      "needs_background": "light"
     },
     "output_type": "display_data"
    }
   ],
   "source": [
    "#we use the plot method along with the function to show the price differences btn wallmart and no frillz\n",
    "data=df.loc[1:15,(\"WALLMART\",\"NO FRILLZ\",\"PRICE_DIFFERENCE\")]\n",
    "data.plot(kind=\"bar\")\n",
    "plt.show()\n"
   ]
  },
  {
   "cell_type": "code",
   "execution_count": 236,
   "id": "eb857515",
   "metadata": {},
   "outputs": [
    {
     "data": {
      "image/png": "[encoded data removed]",
      "text/plain": [
       "<Figure size 432x288 with 1 Axes>"
      ]
     },
     "metadata": {
      "needs_background": "light"
     },
     "output_type": "display_data"
    }
   ],
   "source": [
    "# we use the same data to plot a line graph \n",
    "\n",
    "data.plot(kind=\"line\")\n",
    "plt.show()"
   ]
  },
  {
   "cell_type": "code",
   "execution_count": null,
   "id": "2c7ec0e5",
   "metadata": {},
   "outputs": [],
   "source": []
  }
 ],
 "metadata": {
  "kernelspec": {
   "display_name": "Python 3 (ipykernel)",
   "language": "python",
   "name": "python3"
  },
  "language_info": {
   "codemirror_mode": {
    "name": "ipython",
    "version": 3
   },
   "file_extension": ".py",
   "mimetype": "text/x-python",
   "name": "python",
   "nbconvert_exporter": "python",
   "pygments_lexer": "ipython3",
   "version": "3.9.12"
  }
 },
 "nbformat": 4,
 "nbformat_minor": 5
}
